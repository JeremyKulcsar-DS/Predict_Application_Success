{
 "cells": [
  {
   "cell_type": "markdown",
   "metadata": {},
   "source": [
    "# Prédiction du succès ou de l'échec d'une candidature à un poste"
   ]
  },
  {
   "cell_type": "markdown",
   "metadata": {},
   "source": [
    "Dans ce projet, nous allons utiliser la data science pour voir si un candidat est susceptible d'être recruté à un poste de chercheur d'or en fonction des données qui le caractérisent.  \n",
    "\n",
    "Le dataset a été fourni par un cabinet de conseil qui ne sera pas nommé."
   ]
  },
  {
   "cell_type": "markdown",
   "metadata": {},
   "source": [
    "## 1. Statistiques descriptives"
   ]
  },
  {
   "cell_type": "markdown",
   "metadata": {},
   "source": [
    "On va commencer par importer les libraires permettant de visualiser les données puis on crée le dataframe pour avoir un premier aperçu des données"
   ]
  },
  {
   "cell_type": "code",
   "execution_count": 1,
   "metadata": {},
   "outputs": [
    {
     "data": {
      "text/html": [
       "        <script type=\"text/javascript\">\n",
       "        window.PlotlyConfig = {MathJaxConfig: 'local'};\n",
       "        if (window.MathJax) {MathJax.Hub.Config({SVG: {font: \"STIX-Web\"}});}\n",
       "        if (typeof require !== 'undefined') {\n",
       "        require.undef(\"plotly\");\n",
       "        requirejs.config({\n",
       "            paths: {\n",
       "                'plotly': ['https://cdn.plot.ly/plotly-latest.min']\n",
       "            }\n",
       "        });\n",
       "        require(['plotly'], function(Plotly) {\n",
       "            window._Plotly = Plotly;\n",
       "        });\n",
       "        }\n",
       "        </script>\n",
       "        "
      ]
     },
     "metadata": {},
     "output_type": "display_data"
    },
    {
     "data": {
      "text/plain": [
       "(20000, 12)"
      ]
     },
     "execution_count": 1,
     "metadata": {},
     "output_type": "execute_result"
    }
   ],
   "source": [
    "import numpy as np\n",
    "import pandas as pd\n",
    "import matplotlib.pyplot as plt\n",
    "import seaborn as sns            \n",
    "from scipy import stats\n",
    "\n",
    "def suppress_warnings():\n",
    "    import warnings\n",
    "    warnings.filterwarnings('ignore', category = DeprecationWarning) \n",
    "    warnings.filterwarnings('ignore', category = FutureWarning) \n",
    "\n",
    "import plotly.offline as py\n",
    "from plotly.offline import iplot, init_notebook_mode\n",
    "import plotly.graph_objs as go\n",
    "init_notebook_mode(connected = True) # Required to use plotly offline in jupyter notebook\n",
    "\n",
    "plt.style.use('bmh')                    # Use bmh's style for plotting\n",
    "sns.set_style({'axes.grid':False})      # Remove gridlines\n",
    "\n",
    "df = pd.read_csv(\"data_v1.0 (3).csv\", index_col=0)\n",
    "df.shape"
   ]
  },
  {
   "cell_type": "code",
   "execution_count": 2,
   "metadata": {},
   "outputs": [
    {
     "data": {
      "text/html": [
       "<div>\n",
       "<style scoped>\n",
       "    .dataframe tbody tr th:only-of-type {\n",
       "        vertical-align: middle;\n",
       "    }\n",
       "\n",
       "    .dataframe tbody tr th {\n",
       "        vertical-align: top;\n",
       "    }\n",
       "\n",
       "    .dataframe thead th {\n",
       "        text-align: right;\n",
       "    }\n",
       "</style>\n",
       "<table border=\"1\" class=\"dataframe\">\n",
       "  <thead>\n",
       "    <tr style=\"text-align: right;\">\n",
       "      <th></th>\n",
       "      <th>index</th>\n",
       "      <th>date</th>\n",
       "      <th>cheveux</th>\n",
       "      <th>age</th>\n",
       "      <th>exp</th>\n",
       "      <th>salaire</th>\n",
       "      <th>sexe</th>\n",
       "      <th>diplome</th>\n",
       "      <th>specialite</th>\n",
       "      <th>note</th>\n",
       "      <th>dispo</th>\n",
       "      <th>embauche</th>\n",
       "    </tr>\n",
       "  </thead>\n",
       "  <tbody>\n",
       "    <tr>\n",
       "      <th>0</th>\n",
       "      <td>0</td>\n",
       "      <td>2012-06-02</td>\n",
       "      <td>roux</td>\n",
       "      <td>25.0</td>\n",
       "      <td>9.0</td>\n",
       "      <td>26803.0</td>\n",
       "      <td>F</td>\n",
       "      <td>licence</td>\n",
       "      <td>geologie</td>\n",
       "      <td>97.08</td>\n",
       "      <td>non</td>\n",
       "      <td>0</td>\n",
       "    </tr>\n",
       "    <tr>\n",
       "      <th>1</th>\n",
       "      <td>1</td>\n",
       "      <td>2011-04-21</td>\n",
       "      <td>blond</td>\n",
       "      <td>35.0</td>\n",
       "      <td>13.0</td>\n",
       "      <td>38166.0</td>\n",
       "      <td>M</td>\n",
       "      <td>licence</td>\n",
       "      <td>forage</td>\n",
       "      <td>63.86</td>\n",
       "      <td>non</td>\n",
       "      <td>0</td>\n",
       "    </tr>\n",
       "    <tr>\n",
       "      <th>2</th>\n",
       "      <td>2</td>\n",
       "      <td>2012-09-07</td>\n",
       "      <td>blond</td>\n",
       "      <td>29.0</td>\n",
       "      <td>13.0</td>\n",
       "      <td>35207.0</td>\n",
       "      <td>M</td>\n",
       "      <td>licence</td>\n",
       "      <td>geologie</td>\n",
       "      <td>78.50</td>\n",
       "      <td>non</td>\n",
       "      <td>0</td>\n",
       "    </tr>\n",
       "    <tr>\n",
       "      <th>3</th>\n",
       "      <td>3</td>\n",
       "      <td>2011-07-01</td>\n",
       "      <td>brun</td>\n",
       "      <td>NaN</td>\n",
       "      <td>12.0</td>\n",
       "      <td>32442.0</td>\n",
       "      <td>M</td>\n",
       "      <td>licence</td>\n",
       "      <td>geologie</td>\n",
       "      <td>45.09</td>\n",
       "      <td>non</td>\n",
       "      <td>0</td>\n",
       "    </tr>\n",
       "    <tr>\n",
       "      <th>4</th>\n",
       "      <td>4</td>\n",
       "      <td>2012-08-07</td>\n",
       "      <td>roux</td>\n",
       "      <td>35.0</td>\n",
       "      <td>6.0</td>\n",
       "      <td>28533.0</td>\n",
       "      <td>F</td>\n",
       "      <td>licence</td>\n",
       "      <td>detective</td>\n",
       "      <td>81.91</td>\n",
       "      <td>non</td>\n",
       "      <td>0</td>\n",
       "    </tr>\n",
       "  </tbody>\n",
       "</table>\n",
       "</div>"
      ],
      "text/plain": [
       "   index        date cheveux   age   exp  salaire sexe  diplome specialite  \\\n",
       "0      0  2012-06-02    roux  25.0   9.0  26803.0    F  licence   geologie   \n",
       "1      1  2011-04-21   blond  35.0  13.0  38166.0    M  licence     forage   \n",
       "2      2  2012-09-07   blond  29.0  13.0  35207.0    M  licence   geologie   \n",
       "3      3  2011-07-01    brun   NaN  12.0  32442.0    M  licence   geologie   \n",
       "4      4  2012-08-07    roux  35.0   6.0  28533.0    F  licence  detective   \n",
       "\n",
       "    note dispo  embauche  \n",
       "0  97.08   non         0  \n",
       "1  63.86   non         0  \n",
       "2  78.50   non         0  \n",
       "3  45.09   non         0  \n",
       "4  81.91   non         0  "
      ]
     },
     "execution_count": 2,
     "metadata": {},
     "output_type": "execute_result"
    }
   ],
   "source": [
    "df.head()"
   ]
  },
  {
   "cell_type": "code",
   "execution_count": 3,
   "metadata": {},
   "outputs": [
    {
     "name": "stdout",
     "output_type": "stream",
     "text": [
      "<class 'pandas.core.frame.DataFrame'>\n",
      "Int64Index: 20000 entries, 0 to 19999\n",
      "Data columns (total 12 columns):\n",
      "index         20000 non-null int64\n",
      "date          19909 non-null object\n",
      "cheveux       19897 non-null object\n",
      "age           19909 non-null float64\n",
      "exp           19904 non-null float64\n",
      "salaire       19905 non-null float64\n",
      "sexe          19900 non-null object\n",
      "diplome       19890 non-null object\n",
      "specialite    19907 non-null object\n",
      "note          19886 non-null float64\n",
      "dispo         19894 non-null object\n",
      "embauche      20000 non-null int64\n",
      "dtypes: float64(4), int64(2), object(6)\n",
      "memory usage: 2.0+ MB\n"
     ]
    }
   ],
   "source": [
    "df.info()"
   ]
  },
  {
   "cell_type": "markdown",
   "metadata": {},
   "source": [
    "Variables catégoriques : embauche, cheveux, sexe, diplome, specialite, dispo\n",
    "\n",
    "Variables numériques : age, exp, salaire, note\n",
    "\n",
    "La date est un cas à part que nous traiterons différemment."
   ]
  },
  {
   "cell_type": "markdown",
   "metadata": {},
   "source": [
    "## a. Analyse univariée des données"
   ]
  },
  {
   "cell_type": "markdown",
   "metadata": {},
   "source": [
    "Commençons par une première observation globale des données"
   ]
  },
  {
   "cell_type": "code",
   "execution_count": 4,
   "metadata": {},
   "outputs": [
    {
     "data": {
      "text/html": [
       "<div>\n",
       "<style scoped>\n",
       "    .dataframe tbody tr th:only-of-type {\n",
       "        vertical-align: middle;\n",
       "    }\n",
       "\n",
       "    .dataframe tbody tr th {\n",
       "        vertical-align: top;\n",
       "    }\n",
       "\n",
       "    .dataframe thead th {\n",
       "        text-align: right;\n",
       "    }\n",
       "</style>\n",
       "<table border=\"1\" class=\"dataframe\">\n",
       "  <thead>\n",
       "    <tr style=\"text-align: right;\">\n",
       "      <th></th>\n",
       "      <th>index</th>\n",
       "      <th>age</th>\n",
       "      <th>exp</th>\n",
       "      <th>salaire</th>\n",
       "      <th>note</th>\n",
       "      <th>embauche</th>\n",
       "    </tr>\n",
       "  </thead>\n",
       "  <tbody>\n",
       "    <tr>\n",
       "      <th>count</th>\n",
       "      <td>20000.000000</td>\n",
       "      <td>19909.000000</td>\n",
       "      <td>19904.000000</td>\n",
       "      <td>19905.000000</td>\n",
       "      <td>19886.000000</td>\n",
       "      <td>20000.000000</td>\n",
       "    </tr>\n",
       "    <tr>\n",
       "      <th>mean</th>\n",
       "      <td>9999.500000</td>\n",
       "      <td>35.004521</td>\n",
       "      <td>9.500352</td>\n",
       "      <td>34974.343934</td>\n",
       "      <td>75.168762</td>\n",
       "      <td>0.114600</td>\n",
       "    </tr>\n",
       "    <tr>\n",
       "      <th>std</th>\n",
       "      <td>5773.647028</td>\n",
       "      <td>9.609169</td>\n",
       "      <td>3.012109</td>\n",
       "      <td>5003.099616</td>\n",
       "      <td>17.095926</td>\n",
       "      <td>0.318547</td>\n",
       "    </tr>\n",
       "    <tr>\n",
       "      <th>min</th>\n",
       "      <td>0.000000</td>\n",
       "      <td>-3.000000</td>\n",
       "      <td>-2.000000</td>\n",
       "      <td>14128.000000</td>\n",
       "      <td>8.680000</td>\n",
       "      <td>0.000000</td>\n",
       "    </tr>\n",
       "    <tr>\n",
       "      <th>25%</th>\n",
       "      <td>4999.750000</td>\n",
       "      <td>29.000000</td>\n",
       "      <td>7.000000</td>\n",
       "      <td>31596.000000</td>\n",
       "      <td>63.720000</td>\n",
       "      <td>0.000000</td>\n",
       "    </tr>\n",
       "    <tr>\n",
       "      <th>50%</th>\n",
       "      <td>9999.500000</td>\n",
       "      <td>35.000000</td>\n",
       "      <td>9.000000</td>\n",
       "      <td>34979.000000</td>\n",
       "      <td>75.080000</td>\n",
       "      <td>0.000000</td>\n",
       "    </tr>\n",
       "    <tr>\n",
       "      <th>75%</th>\n",
       "      <td>14999.250000</td>\n",
       "      <td>41.000000</td>\n",
       "      <td>12.000000</td>\n",
       "      <td>38358.000000</td>\n",
       "      <td>86.617500</td>\n",
       "      <td>0.000000</td>\n",
       "    </tr>\n",
       "    <tr>\n",
       "      <th>max</th>\n",
       "      <td>19999.000000</td>\n",
       "      <td>74.000000</td>\n",
       "      <td>23.000000</td>\n",
       "      <td>53977.000000</td>\n",
       "      <td>143.220000</td>\n",
       "      <td>1.000000</td>\n",
       "    </tr>\n",
       "  </tbody>\n",
       "</table>\n",
       "</div>"
      ],
      "text/plain": [
       "              index           age           exp       salaire          note  \\\n",
       "count  20000.000000  19909.000000  19904.000000  19905.000000  19886.000000   \n",
       "mean    9999.500000     35.004521      9.500352  34974.343934     75.168762   \n",
       "std     5773.647028      9.609169      3.012109   5003.099616     17.095926   \n",
       "min        0.000000     -3.000000     -2.000000  14128.000000      8.680000   \n",
       "25%     4999.750000     29.000000      7.000000  31596.000000     63.720000   \n",
       "50%     9999.500000     35.000000      9.000000  34979.000000     75.080000   \n",
       "75%    14999.250000     41.000000     12.000000  38358.000000     86.617500   \n",
       "max    19999.000000     74.000000     23.000000  53977.000000    143.220000   \n",
       "\n",
       "           embauche  \n",
       "count  20000.000000  \n",
       "mean       0.114600  \n",
       "std        0.318547  \n",
       "min        0.000000  \n",
       "25%        0.000000  \n",
       "50%        0.000000  \n",
       "75%        0.000000  \n",
       "max        1.000000  "
      ]
     },
     "execution_count": 4,
     "metadata": {},
     "output_type": "execute_result"
    }
   ],
   "source": [
    "df.describe()"
   ]
  },
  {
   "cell_type": "markdown",
   "metadata": {},
   "source": [
    "On remarque des incohérences telles que le max de la note supérieur à 100, un age min inférieur à 0 et une expérience inférieure à 0. Regardons maintenant les données parmis les candidats embauchés.\n",
    "\n",
    "On remarque aussi des grandes différents dans la ligne count : cela indique que l'on aura affaire à beaucoup de NaN."
   ]
  },
  {
   "cell_type": "code",
   "execution_count": 5,
   "metadata": {
    "scrolled": true
   },
   "outputs": [
    {
     "data": {
      "text/html": [
       "<div>\n",
       "<style scoped>\n",
       "    .dataframe tbody tr th:only-of-type {\n",
       "        vertical-align: middle;\n",
       "    }\n",
       "\n",
       "    .dataframe tbody tr th {\n",
       "        vertical-align: top;\n",
       "    }\n",
       "\n",
       "    .dataframe thead th {\n",
       "        text-align: right;\n",
       "    }\n",
       "</style>\n",
       "<table border=\"1\" class=\"dataframe\">\n",
       "  <thead>\n",
       "    <tr style=\"text-align: right;\">\n",
       "      <th></th>\n",
       "      <th>index</th>\n",
       "      <th>age</th>\n",
       "      <th>exp</th>\n",
       "      <th>salaire</th>\n",
       "      <th>note</th>\n",
       "      <th>embauche</th>\n",
       "    </tr>\n",
       "  </thead>\n",
       "  <tbody>\n",
       "    <tr>\n",
       "      <th>count</th>\n",
       "      <td>2292.000000</td>\n",
       "      <td>2282.000000</td>\n",
       "      <td>2284.000000</td>\n",
       "      <td>2285.000000</td>\n",
       "      <td>2276.000000</td>\n",
       "      <td>2292.0</td>\n",
       "    </tr>\n",
       "    <tr>\n",
       "      <th>mean</th>\n",
       "      <td>9704.530977</td>\n",
       "      <td>34.694128</td>\n",
       "      <td>9.555604</td>\n",
       "      <td>35006.883151</td>\n",
       "      <td>75.312329</td>\n",
       "      <td>1.0</td>\n",
       "    </tr>\n",
       "    <tr>\n",
       "      <th>std</th>\n",
       "      <td>5793.152514</td>\n",
       "      <td>9.742329</td>\n",
       "      <td>2.958165</td>\n",
       "      <td>4620.512606</td>\n",
       "      <td>15.993070</td>\n",
       "      <td>0.0</td>\n",
       "    </tr>\n",
       "    <tr>\n",
       "      <th>min</th>\n",
       "      <td>5.000000</td>\n",
       "      <td>1.000000</td>\n",
       "      <td>0.000000</td>\n",
       "      <td>17047.000000</td>\n",
       "      <td>21.260000</td>\n",
       "      <td>1.0</td>\n",
       "    </tr>\n",
       "    <tr>\n",
       "      <th>25%</th>\n",
       "      <td>4616.500000</td>\n",
       "      <td>28.000000</td>\n",
       "      <td>8.000000</td>\n",
       "      <td>31807.000000</td>\n",
       "      <td>64.265000</td>\n",
       "      <td>1.0</td>\n",
       "    </tr>\n",
       "    <tr>\n",
       "      <th>50%</th>\n",
       "      <td>9562.500000</td>\n",
       "      <td>35.000000</td>\n",
       "      <td>10.000000</td>\n",
       "      <td>34996.000000</td>\n",
       "      <td>75.110000</td>\n",
       "      <td>1.0</td>\n",
       "    </tr>\n",
       "    <tr>\n",
       "      <th>75%</th>\n",
       "      <td>14575.750000</td>\n",
       "      <td>41.000000</td>\n",
       "      <td>12.000000</td>\n",
       "      <td>38191.000000</td>\n",
       "      <td>85.820000</td>\n",
       "      <td>1.0</td>\n",
       "    </tr>\n",
       "    <tr>\n",
       "      <th>max</th>\n",
       "      <td>19996.000000</td>\n",
       "      <td>74.000000</td>\n",
       "      <td>20.000000</td>\n",
       "      <td>51093.000000</td>\n",
       "      <td>143.220000</td>\n",
       "      <td>1.0</td>\n",
       "    </tr>\n",
       "  </tbody>\n",
       "</table>\n",
       "</div>"
      ],
      "text/plain": [
       "              index          age          exp       salaire         note  \\\n",
       "count   2292.000000  2282.000000  2284.000000   2285.000000  2276.000000   \n",
       "mean    9704.530977    34.694128     9.555604  35006.883151    75.312329   \n",
       "std     5793.152514     9.742329     2.958165   4620.512606    15.993070   \n",
       "min        5.000000     1.000000     0.000000  17047.000000    21.260000   \n",
       "25%     4616.500000    28.000000     8.000000  31807.000000    64.265000   \n",
       "50%     9562.500000    35.000000    10.000000  34996.000000    75.110000   \n",
       "75%    14575.750000    41.000000    12.000000  38191.000000    85.820000   \n",
       "max    19996.000000    74.000000    20.000000  51093.000000   143.220000   \n",
       "\n",
       "       embauche  \n",
       "count    2292.0  \n",
       "mean        1.0  \n",
       "std         0.0  \n",
       "min         1.0  \n",
       "25%         1.0  \n",
       "50%         1.0  \n",
       "75%         1.0  \n",
       "max         1.0  "
      ]
     },
     "execution_count": 5,
     "metadata": {},
     "output_type": "execute_result"
    }
   ],
   "source": [
    "df[df[\"embauche\"] == 1].describe()"
   ]
  },
  {
   "cell_type": "markdown",
   "metadata": {},
   "source": [
    "On voit que l'age minimal pour un candidat embauché est de 1 an, ce qui est incohérent. L'age maximal est de 74, ce qui peut être cohérent pour un passionné de recherche. Dans tous les cas, il faudra nettoyer la donnée lors de l'apprentissage."
   ]
  },
  {
   "cell_type": "markdown",
   "metadata": {},
   "source": [
    "### a.1. Les variables discrètes"
   ]
  },
  {
   "cell_type": "markdown",
   "metadata": {},
   "source": [
    "Nous allons commencer par définir deux fonctions afin de visualiser la fréquence en valeurs absolue et relative de chacune des variables, puis une troisième fonction pour tout afficher avec une seule ligne."
   ]
  },
  {
   "cell_type": "code",
   "execution_count": 6,
   "metadata": {},
   "outputs": [],
   "source": [
    "# Fonction qui affiche les bar labels en échelle absolue\n",
    "def abs_bar_labels():\n",
    "    font_size = 12\n",
    "    plt.ylabel('Absolute Frequency', fontsize = font_size)\n",
    "    plt.xticks(rotation = 0, fontsize = font_size)\n",
    "    plt.yticks([])\n",
    "    \n",
    "    for x in ax.patches:\n",
    "        ax.annotate(x.get_height(), \n",
    "        (x.get_x() + x.get_width()/2., x.get_height()), ha = 'center', va = 'center', xytext = (0, 7), \n",
    "        textcoords = 'offset points', fontsize = font_size, color = 'black')\n",
    "    \n",
    "# Fonction qui affiche les bar labels en échelle relative\n",
    "def pct_bar_labels():\n",
    "    font_size = 12\n",
    "    plt.ylabel('Relative Frequency (%)', fontsize = font_size)\n",
    "    plt.xticks(rotation = 0, fontsize = font_size)\n",
    "    plt.yticks([]) \n",
    "    \n",
    "    for x in ax1.patches:\n",
    "        ax1.annotate(str(x.get_height()) + '%', \n",
    "        (x.get_x() + x.get_width()/2., x.get_height()), ha = 'center', va = 'center', xytext = (0, 7), \n",
    "        textcoords = 'offset points', fontsize = font_size, color = 'black')\n",
    "        \n",
    "# Fonction qui affiche un dataframe des valeurs absolues et relatives + plot les deux fonctions précédentes\n",
    "def absolute_and_relative_freq(variable):\n",
    "    global  ax, ax1 \n",
    "    # Dataframe\n",
    "    absolute_frequency = variable.value_counts()\n",
    "    relative_frequency = round(variable.value_counts(normalize = True)*100, 2)\n",
    "\n",
    "    df = pd.DataFrame({'Fréquence absolue':absolute_frequency, 'Fréquence relative (%)':relative_frequency})\n",
    "    print('Fréquences absolue et relative de ',variable.name,' :')\n",
    "    display(df)\n",
    "    \n",
    "    # Valeur absolue\n",
    "    fig_size = (15,4)\n",
    "    font_size = 12\n",
    "    title_size = 15\n",
    "    ax =  absolute_frequency.plot.bar(title = 'Fréquence en valeur absolue de %s' %variable.name, figsize = fig_size)\n",
    "    ax.title.set_size(title_size)\n",
    "    abs_bar_labels()  # Displays bar labels in abs scale.\n",
    "    plt.show()\n",
    "    \n",
    "    # Valeur relative\n",
    "    ax1 = relative_frequency.plot.bar(title = 'Fréquence en valeur relative de %s' %variable.name, figsize = fig_size)\n",
    "    ax1.title.set_size(title_size)\n",
    "    pct_bar_labels() # Displays bar labels in relative scale.\n",
    "    plt.show()"
   ]
  },
  {
   "cell_type": "code",
   "execution_count": 7,
   "metadata": {},
   "outputs": [
    {
     "name": "stdout",
     "output_type": "stream",
     "text": [
      "Fréquences absolue et relative de  embauche  :\n"
     ]
    },
    {
     "data": {
      "text/html": [
       "<div>\n",
       "<style scoped>\n",
       "    .dataframe tbody tr th:only-of-type {\n",
       "        vertical-align: middle;\n",
       "    }\n",
       "\n",
       "    .dataframe tbody tr th {\n",
       "        vertical-align: top;\n",
       "    }\n",
       "\n",
       "    .dataframe thead th {\n",
       "        text-align: right;\n",
       "    }\n",
       "</style>\n",
       "<table border=\"1\" class=\"dataframe\">\n",
       "  <thead>\n",
       "    <tr style=\"text-align: right;\">\n",
       "      <th></th>\n",
       "      <th>Fréquence absolue</th>\n",
       "      <th>Fréquence relative (%)</th>\n",
       "    </tr>\n",
       "  </thead>\n",
       "  <tbody>\n",
       "    <tr>\n",
       "      <th>0</th>\n",
       "      <td>17708</td>\n",
       "      <td>88.54</td>\n",
       "    </tr>\n",
       "    <tr>\n",
       "      <th>1</th>\n",
       "      <td>2292</td>\n",
       "      <td>11.46</td>\n",
       "    </tr>\n",
       "  </tbody>\n",
       "</table>\n",
       "</div>"
      ],
      "text/plain": [
       "   Fréquence absolue  Fréquence relative (%)\n",
       "0              17708                   88.54\n",
       "1               2292                   11.46"
      ]
     },
     "metadata": {},
     "output_type": "display_data"
    },
    {
     "data": {
      "image/png": "[encoded data removed]",
      "text/plain": [
       "<Figure size 1080x288 with 1 Axes>"
      ]
     },
     "metadata": {
      "needs_background": "light"
     },
     "output_type": "display_data"
    },
    {
     "data": {
      "image/png": "[encoded data removed]",
      "text/plain": [
       "<Figure size 1080x288 with 1 Axes>"
      ]
     },
     "metadata": {
      "needs_background": "light"
     },
     "output_type": "display_data"
    }
   ],
   "source": [
    "# Embauche\n",
    "absolute_and_relative_freq(df.embauche)"
   ]
  },
  {
   "cell_type": "markdown",
   "metadata": {},
   "source": [
    "On voit que seulement 11.46% des candidats ont été embauchés."
   ]
  },
  {
   "cell_type": "code",
   "execution_count": 8,
   "metadata": {},
   "outputs": [
    {
     "name": "stdout",
     "output_type": "stream",
     "text": [
      "Sur le set complet\n",
      "Fréquences absolue et relative de  cheveux  :\n"
     ]
    },
    {
     "data": {
      "text/html": [
       "<div>\n",
       "<style scoped>\n",
       "    .dataframe tbody tr th:only-of-type {\n",
       "        vertical-align: middle;\n",
       "    }\n",
       "\n",
       "    .dataframe tbody tr th {\n",
       "        vertical-align: top;\n",
       "    }\n",
       "\n",
       "    .dataframe thead th {\n",
       "        text-align: right;\n",
       "    }\n",
       "</style>\n",
       "<table border=\"1\" class=\"dataframe\">\n",
       "  <thead>\n",
       "    <tr style=\"text-align: right;\">\n",
       "      <th></th>\n",
       "      <th>Fréquence absolue</th>\n",
       "      <th>Fréquence relative (%)</th>\n",
       "    </tr>\n",
       "  </thead>\n",
       "  <tbody>\n",
       "    <tr>\n",
       "      <th>chatain</th>\n",
       "      <td>6022</td>\n",
       "      <td>30.27</td>\n",
       "    </tr>\n",
       "    <tr>\n",
       "      <th>brun</th>\n",
       "      <td>5991</td>\n",
       "      <td>30.11</td>\n",
       "    </tr>\n",
       "    <tr>\n",
       "      <th>blond</th>\n",
       "      <td>5929</td>\n",
       "      <td>29.80</td>\n",
       "    </tr>\n",
       "    <tr>\n",
       "      <th>roux</th>\n",
       "      <td>1955</td>\n",
       "      <td>9.83</td>\n",
       "    </tr>\n",
       "  </tbody>\n",
       "</table>\n",
       "</div>"
      ],
      "text/plain": [
       "         Fréquence absolue  Fréquence relative (%)\n",
       "chatain               6022                   30.27\n",
       "brun                  5991                   30.11\n",
       "blond                 5929                   29.80\n",
       "roux                  1955                    9.83"
      ]
     },
     "metadata": {},
     "output_type": "display_data"
    },
    {
     "data": {
      "image/png": "[encoded data removed]",
      "text/plain": [
       "<Figure size 1080x288 with 1 Axes>"
      ]
     },
     "metadata": {
      "needs_background": "light"
     },
     "output_type": "display_data"
    },
    {
     "data": {
      "image/png": "[encoded data removed]",
      "text/plain": [
       "<Figure size 1080x288 with 1 Axes>"
      ]
     },
     "metadata": {
      "needs_background": "light"
     },
     "output_type": "display_data"
    },
    {
     "name": "stdout",
     "output_type": "stream",
     "text": [
      "Uniquement pour les embauches\n",
      "Fréquences absolue et relative de  cheveux  :\n"
     ]
    },
    {
     "data": {
      "text/html": [
       "<div>\n",
       "<style scoped>\n",
       "    .dataframe tbody tr th:only-of-type {\n",
       "        vertical-align: middle;\n",
       "    }\n",
       "\n",
       "    .dataframe tbody tr th {\n",
       "        vertical-align: top;\n",
       "    }\n",
       "\n",
       "    .dataframe thead th {\n",
       "        text-align: right;\n",
       "    }\n",
       "</style>\n",
       "<table border=\"1\" class=\"dataframe\">\n",
       "  <thead>\n",
       "    <tr style=\"text-align: right;\">\n",
       "      <th></th>\n",
       "      <th>Fréquence absolue</th>\n",
       "      <th>Fréquence relative (%)</th>\n",
       "    </tr>\n",
       "  </thead>\n",
       "  <tbody>\n",
       "    <tr>\n",
       "      <th>brun</th>\n",
       "      <td>697</td>\n",
       "      <td>30.52</td>\n",
       "    </tr>\n",
       "    <tr>\n",
       "      <th>blond</th>\n",
       "      <td>694</td>\n",
       "      <td>30.39</td>\n",
       "    </tr>\n",
       "    <tr>\n",
       "      <th>chatain</th>\n",
       "      <td>669</td>\n",
       "      <td>29.29</td>\n",
       "    </tr>\n",
       "    <tr>\n",
       "      <th>roux</th>\n",
       "      <td>224</td>\n",
       "      <td>9.81</td>\n",
       "    </tr>\n",
       "  </tbody>\n",
       "</table>\n",
       "</div>"
      ],
      "text/plain": [
       "         Fréquence absolue  Fréquence relative (%)\n",
       "brun                   697                   30.52\n",
       "blond                  694                   30.39\n",
       "chatain                669                   29.29\n",
       "roux                   224                    9.81"
      ]
     },
     "metadata": {},
     "output_type": "display_data"
    },
    {
     "data": {
      "image/png": "[encoded data removed]",
      "text/plain": [
       "<Figure size 1080x288 with 1 Axes>"
      ]
     },
     "metadata": {
      "needs_background": "light"
     },
     "output_type": "display_data"
    },
    {
     "data": {
      "image/png": "[encoded data removed]",
      "text/plain": [
       "<Figure size 1080x288 with 1 Axes>"
      ]
     },
     "metadata": {
      "needs_background": "light"
     },
     "output_type": "display_data"
    }
   ],
   "source": [
    "# Cheveux\n",
    "print(\"Sur le set complet\")\n",
    "absolute_and_relative_freq(df.cheveux)\n",
    "print(\"Uniquement pour les embauches\")\n",
    "absolute_and_relative_freq(df[df[\"embauche\"] == 1].cheveux)"
   ]
  },
  {
   "cell_type": "markdown",
   "metadata": {},
   "source": [
    "Les couleurs ne sont pas distribuées de manière égale entre les candidats. Il y a en effet trois fois moins de roux par rapport aux autres couleurs de cheveux qui sont, elles, équitablement distribuées entre elles."
   ]
  },
  {
   "cell_type": "code",
   "execution_count": 9,
   "metadata": {},
   "outputs": [
    {
     "name": "stdout",
     "output_type": "stream",
     "text": [
      "Sur le set complet\n",
      "Fréquences absolue et relative de  sexe  :\n"
     ]
    },
    {
     "data": {
      "text/html": [
       "<div>\n",
       "<style scoped>\n",
       "    .dataframe tbody tr th:only-of-type {\n",
       "        vertical-align: middle;\n",
       "    }\n",
       "\n",
       "    .dataframe tbody tr th {\n",
       "        vertical-align: top;\n",
       "    }\n",
       "\n",
       "    .dataframe thead th {\n",
       "        text-align: right;\n",
       "    }\n",
       "</style>\n",
       "<table border=\"1\" class=\"dataframe\">\n",
       "  <thead>\n",
       "    <tr style=\"text-align: right;\">\n",
       "      <th></th>\n",
       "      <th>Fréquence absolue</th>\n",
       "      <th>Fréquence relative (%)</th>\n",
       "    </tr>\n",
       "  </thead>\n",
       "  <tbody>\n",
       "    <tr>\n",
       "      <th>M</th>\n",
       "      <td>11889</td>\n",
       "      <td>59.74</td>\n",
       "    </tr>\n",
       "    <tr>\n",
       "      <th>F</th>\n",
       "      <td>8011</td>\n",
       "      <td>40.26</td>\n",
       "    </tr>\n",
       "  </tbody>\n",
       "</table>\n",
       "</div>"
      ],
      "text/plain": [
       "   Fréquence absolue  Fréquence relative (%)\n",
       "M              11889                   59.74\n",
       "F               8011                   40.26"
      ]
     },
     "metadata": {},
     "output_type": "display_data"
    },
    {
     "data": {
      "image/png": "[encoded data removed]",
      "text/plain": [
       "<Figure size 1080x288 with 1 Axes>"
      ]
     },
     "metadata": {
      "needs_background": "light"
     },
     "output_type": "display_data"
    },
    {
     "data": {
      "image/png": "[encoded data removed]",
      "text/plain": [
       "<Figure size 1080x288 with 1 Axes>"
      ]
     },
     "metadata": {
      "needs_background": "light"
     },
     "output_type": "display_data"
    },
    {
     "name": "stdout",
     "output_type": "stream",
     "text": [
      "Uniquement pour les embauches\n",
      "Fréquences absolue et relative de  sexe  :\n"
     ]
    },
    {
     "data": {
      "text/html": [
       "<div>\n",
       "<style scoped>\n",
       "    .dataframe tbody tr th:only-of-type {\n",
       "        vertical-align: middle;\n",
       "    }\n",
       "\n",
       "    .dataframe tbody tr th {\n",
       "        vertical-align: top;\n",
       "    }\n",
       "\n",
       "    .dataframe thead th {\n",
       "        text-align: right;\n",
       "    }\n",
       "</style>\n",
       "<table border=\"1\" class=\"dataframe\">\n",
       "  <thead>\n",
       "    <tr style=\"text-align: right;\">\n",
       "      <th></th>\n",
       "      <th>Fréquence absolue</th>\n",
       "      <th>Fréquence relative (%)</th>\n",
       "    </tr>\n",
       "  </thead>\n",
       "  <tbody>\n",
       "    <tr>\n",
       "      <th>M</th>\n",
       "      <td>1456</td>\n",
       "      <td>63.86</td>\n",
       "    </tr>\n",
       "    <tr>\n",
       "      <th>F</th>\n",
       "      <td>824</td>\n",
       "      <td>36.14</td>\n",
       "    </tr>\n",
       "  </tbody>\n",
       "</table>\n",
       "</div>"
      ],
      "text/plain": [
       "   Fréquence absolue  Fréquence relative (%)\n",
       "M               1456                   63.86\n",
       "F                824                   36.14"
      ]
     },
     "metadata": {},
     "output_type": "display_data"
    },
    {
     "data": {
      "image/png": "[encoded data removed]",
      "text/plain": [
       "<Figure size 1080x288 with 1 Axes>"
      ]
     },
     "metadata": {
      "needs_background": "light"
     },
     "output_type": "display_data"
    },
    {
     "data": {
      "image/png": "[encoded data removed]",
      "text/plain": [
       "<Figure size 1080x288 with 1 Axes>"
      ]
     },
     "metadata": {
      "needs_background": "light"
     },
     "output_type": "display_data"
    }
   ],
   "source": [
    "# Sexe\n",
    "print(\"Sur le set complet\")\n",
    "absolute_and_relative_freq(df.sexe)\n",
    "print(\"Uniquement pour les embauches\")\n",
    "absolute_and_relative_freq(df[df[\"embauche\"] == 1].sexe)"
   ]
  },
  {
   "cell_type": "markdown",
   "metadata": {},
   "source": [
    "Ici aussi, la variable n'est pas équilibrée : 59.74% des labels sont des hommes contre seulement 40.26% de femmes."
   ]
  },
  {
   "cell_type": "code",
   "execution_count": 10,
   "metadata": {},
   "outputs": [
    {
     "name": "stdout",
     "output_type": "stream",
     "text": [
      "Sur le set complet\n",
      "Fréquences absolue et relative de  diplome  :\n"
     ]
    },
    {
     "data": {
      "text/html": [
       "<div>\n",
       "<style scoped>\n",
       "    .dataframe tbody tr th:only-of-type {\n",
       "        vertical-align: middle;\n",
       "    }\n",
       "\n",
       "    .dataframe tbody tr th {\n",
       "        vertical-align: top;\n",
       "    }\n",
       "\n",
       "    .dataframe thead th {\n",
       "        text-align: right;\n",
       "    }\n",
       "</style>\n",
       "<table border=\"1\" class=\"dataframe\">\n",
       "  <thead>\n",
       "    <tr style=\"text-align: right;\">\n",
       "      <th></th>\n",
       "      <th>Fréquence absolue</th>\n",
       "      <th>Fréquence relative (%)</th>\n",
       "    </tr>\n",
       "  </thead>\n",
       "  <tbody>\n",
       "    <tr>\n",
       "      <th>master</th>\n",
       "      <td>7513</td>\n",
       "      <td>37.77</td>\n",
       "    </tr>\n",
       "    <tr>\n",
       "      <th>licence</th>\n",
       "      <td>7377</td>\n",
       "      <td>37.09</td>\n",
       "    </tr>\n",
       "    <tr>\n",
       "      <th>doctorat</th>\n",
       "      <td>2547</td>\n",
       "      <td>12.81</td>\n",
       "    </tr>\n",
       "    <tr>\n",
       "      <th>bac</th>\n",
       "      <td>2453</td>\n",
       "      <td>12.33</td>\n",
       "    </tr>\n",
       "  </tbody>\n",
       "</table>\n",
       "</div>"
      ],
      "text/plain": [
       "          Fréquence absolue  Fréquence relative (%)\n",
       "master                 7513                   37.77\n",
       "licence                7377                   37.09\n",
       "doctorat               2547                   12.81\n",
       "bac                    2453                   12.33"
      ]
     },
     "metadata": {},
     "output_type": "display_data"
    },
    {
     "data": {
      "image/png": "[encoded data removed]",
      "text/plain": [
       "<Figure size 1080x288 with 1 Axes>"
      ]
     },
     "metadata": {
      "needs_background": "light"
     },
     "output_type": "display_data"
    },
    {
     "data": {
      "image/png": "[encoded data removed]",
      "text/plain": [
       "<Figure size 1080x288 with 1 Axes>"
      ]
     },
     "metadata": {
      "needs_background": "light"
     },
     "output_type": "display_data"
    },
    {
     "name": "stdout",
     "output_type": "stream",
     "text": [
      "Uniquement pour les embauches\n",
      "Fréquences absolue et relative de  diplome  :\n"
     ]
    },
    {
     "data": {
      "text/html": [
       "<div>\n",
       "<style scoped>\n",
       "    .dataframe tbody tr th:only-of-type {\n",
       "        vertical-align: middle;\n",
       "    }\n",
       "\n",
       "    .dataframe tbody tr th {\n",
       "        vertical-align: top;\n",
       "    }\n",
       "\n",
       "    .dataframe thead th {\n",
       "        text-align: right;\n",
       "    }\n",
       "</style>\n",
       "<table border=\"1\" class=\"dataframe\">\n",
       "  <thead>\n",
       "    <tr style=\"text-align: right;\">\n",
       "      <th></th>\n",
       "      <th>Fréquence absolue</th>\n",
       "      <th>Fréquence relative (%)</th>\n",
       "    </tr>\n",
       "  </thead>\n",
       "  <tbody>\n",
       "    <tr>\n",
       "      <th>master</th>\n",
       "      <td>951</td>\n",
       "      <td>41.80</td>\n",
       "    </tr>\n",
       "    <tr>\n",
       "      <th>licence</th>\n",
       "      <td>897</td>\n",
       "      <td>39.43</td>\n",
       "    </tr>\n",
       "    <tr>\n",
       "      <th>doctorat</th>\n",
       "      <td>223</td>\n",
       "      <td>9.80</td>\n",
       "    </tr>\n",
       "    <tr>\n",
       "      <th>bac</th>\n",
       "      <td>204</td>\n",
       "      <td>8.97</td>\n",
       "    </tr>\n",
       "  </tbody>\n",
       "</table>\n",
       "</div>"
      ],
      "text/plain": [
       "          Fréquence absolue  Fréquence relative (%)\n",
       "master                  951                   41.80\n",
       "licence                 897                   39.43\n",
       "doctorat                223                    9.80\n",
       "bac                     204                    8.97"
      ]
     },
     "metadata": {},
     "output_type": "display_data"
    },
    {
     "data": {
      "image/png": "[encoded data removed]",
      "text/plain": [
       "<Figure size 1080x288 with 1 Axes>"
      ]
     },
     "metadata": {
      "needs_background": "light"
     },
     "output_type": "display_data"
    },
    {
     "data": {
      "image/png": "[encoded data removed]",
      "text/plain": [
       "<Figure size 1080x288 with 1 Axes>"
      ]
     },
     "metadata": {
      "needs_background": "light"
     },
     "output_type": "display_data"
    }
   ],
   "source": [
    "# Diplome\n",
    "print(\"Sur le set complet\")\n",
    "absolute_and_relative_freq(df.diplome)\n",
    "print(\"Uniquement pour les embauches\")\n",
    "absolute_and_relative_freq(df[df[\"embauche\"] == 1].diplome)"
   ]
  },
  {
   "cell_type": "markdown",
   "metadata": {},
   "source": [
    "On remarque ici un déséquilibre entre les différents diplômes : beaucoup plus de masters et licences (respectivement 37.77% et 37.09%) que de doctorats et bacs (respectivement 12.81% et 12.33%)"
   ]
  },
  {
   "cell_type": "code",
   "execution_count": 11,
   "metadata": {},
   "outputs": [
    {
     "name": "stdout",
     "output_type": "stream",
     "text": [
      "Sur le set complet\n",
      "Fréquences absolue et relative de  specialite  :\n"
     ]
    },
    {
     "data": {
      "text/html": [
       "<div>\n",
       "<style scoped>\n",
       "    .dataframe tbody tr th:only-of-type {\n",
       "        vertical-align: middle;\n",
       "    }\n",
       "\n",
       "    .dataframe tbody tr th {\n",
       "        vertical-align: top;\n",
       "    }\n",
       "\n",
       "    .dataframe thead th {\n",
       "        text-align: right;\n",
       "    }\n",
       "</style>\n",
       "<table border=\"1\" class=\"dataframe\">\n",
       "  <thead>\n",
       "    <tr style=\"text-align: right;\">\n",
       "      <th></th>\n",
       "      <th>Fréquence absolue</th>\n",
       "      <th>Fréquence relative (%)</th>\n",
       "    </tr>\n",
       "  </thead>\n",
       "  <tbody>\n",
       "    <tr>\n",
       "      <th>geologie</th>\n",
       "      <td>10028</td>\n",
       "      <td>50.37</td>\n",
       "    </tr>\n",
       "    <tr>\n",
       "      <th>forage</th>\n",
       "      <td>4340</td>\n",
       "      <td>21.80</td>\n",
       "    </tr>\n",
       "    <tr>\n",
       "      <th>detective</th>\n",
       "      <td>4155</td>\n",
       "      <td>20.87</td>\n",
       "    </tr>\n",
       "    <tr>\n",
       "      <th>archeologie</th>\n",
       "      <td>1384</td>\n",
       "      <td>6.95</td>\n",
       "    </tr>\n",
       "  </tbody>\n",
       "</table>\n",
       "</div>"
      ],
      "text/plain": [
       "             Fréquence absolue  Fréquence relative (%)\n",
       "geologie                 10028                   50.37\n",
       "forage                    4340                   21.80\n",
       "detective                 4155                   20.87\n",
       "archeologie               1384                    6.95"
      ]
     },
     "metadata": {},
     "output_type": "display_data"
    },
    {
     "data": {
      "image/png": "[encoded data removed]",
      "text/plain": [
       "<Figure size 1080x288 with 1 Axes>"
      ]
     },
     "metadata": {
      "needs_background": "light"
     },
     "output_type": "display_data"
    },
    {
     "data": {
      "image/png": "[encoded data removed]",
      "text/plain": [
       "<Figure size 1080x288 with 1 Axes>"
      ]
     },
     "metadata": {
      "needs_background": "light"
     },
     "output_type": "display_data"
    },
    {
     "name": "stdout",
     "output_type": "stream",
     "text": [
      "Uniquement pour les embauches\n",
      "Fréquences absolue et relative de  specialite  :\n"
     ]
    },
    {
     "data": {
      "text/html": [
       "<div>\n",
       "<style scoped>\n",
       "    .dataframe tbody tr th:only-of-type {\n",
       "        vertical-align: middle;\n",
       "    }\n",
       "\n",
       "    .dataframe tbody tr th {\n",
       "        vertical-align: top;\n",
       "    }\n",
       "\n",
       "    .dataframe thead th {\n",
       "        text-align: right;\n",
       "    }\n",
       "</style>\n",
       "<table border=\"1\" class=\"dataframe\">\n",
       "  <thead>\n",
       "    <tr style=\"text-align: right;\">\n",
       "      <th></th>\n",
       "      <th>Fréquence absolue</th>\n",
       "      <th>Fréquence relative (%)</th>\n",
       "    </tr>\n",
       "  </thead>\n",
       "  <tbody>\n",
       "    <tr>\n",
       "      <th>geologie</th>\n",
       "      <td>1181</td>\n",
       "      <td>51.68</td>\n",
       "    </tr>\n",
       "    <tr>\n",
       "      <th>detective</th>\n",
       "      <td>421</td>\n",
       "      <td>18.42</td>\n",
       "    </tr>\n",
       "    <tr>\n",
       "      <th>forage</th>\n",
       "      <td>396</td>\n",
       "      <td>17.33</td>\n",
       "    </tr>\n",
       "    <tr>\n",
       "      <th>archeologie</th>\n",
       "      <td>287</td>\n",
       "      <td>12.56</td>\n",
       "    </tr>\n",
       "  </tbody>\n",
       "</table>\n",
       "</div>"
      ],
      "text/plain": [
       "             Fréquence absolue  Fréquence relative (%)\n",
       "geologie                  1181                   51.68\n",
       "detective                  421                   18.42\n",
       "forage                     396                   17.33\n",
       "archeologie                287                   12.56"
      ]
     },
     "metadata": {},
     "output_type": "display_data"
    },
    {
     "data": {
      "image/png": "[encoded data removed]",
      "text/plain": [
       "<Figure size 1080x288 with 1 Axes>"
      ]
     },
     "metadata": {
      "needs_background": "light"
     },
     "output_type": "display_data"
    },
    {
     "data": {
      "image/png": "[encoded data removed]",
      "text/plain": [
       "<Figure size 1080x288 with 1 Axes>"
      ]
     },
     "metadata": {
      "needs_background": "light"
     },
     "output_type": "display_data"
    }
   ],
   "source": [
    "# Specialité\n",
    "print(\"Sur le set complet\")\n",
    "absolute_and_relative_freq(df.specialite)\n",
    "print(\"Uniquement pour les embauches\")\n",
    "absolute_and_relative_freq(df[df[\"embauche\"] == 1].specialite)"
   ]
  },
  {
   "cell_type": "markdown",
   "metadata": {},
   "source": [
    "Plus de la moitié des spécialités sont en géologie, contre forage et detective qui sont tous les deux proches de 20% et archéologie qui est sous-représentée avec moins de 7%."
   ]
  },
  {
   "cell_type": "code",
   "execution_count": 12,
   "metadata": {},
   "outputs": [
    {
     "name": "stdout",
     "output_type": "stream",
     "text": [
      "Sur le set complet\n",
      "Fréquences absolue et relative de  dispo  :\n"
     ]
    },
    {
     "data": {
      "text/html": [
       "<div>\n",
       "<style scoped>\n",
       "    .dataframe tbody tr th:only-of-type {\n",
       "        vertical-align: middle;\n",
       "    }\n",
       "\n",
       "    .dataframe tbody tr th {\n",
       "        vertical-align: top;\n",
       "    }\n",
       "\n",
       "    .dataframe thead th {\n",
       "        text-align: right;\n",
       "    }\n",
       "</style>\n",
       "<table border=\"1\" class=\"dataframe\">\n",
       "  <thead>\n",
       "    <tr style=\"text-align: right;\">\n",
       "      <th></th>\n",
       "      <th>Fréquence absolue</th>\n",
       "      <th>Fréquence relative (%)</th>\n",
       "    </tr>\n",
       "  </thead>\n",
       "  <tbody>\n",
       "    <tr>\n",
       "      <th>non</th>\n",
       "      <td>11848</td>\n",
       "      <td>59.56</td>\n",
       "    </tr>\n",
       "    <tr>\n",
       "      <th>oui</th>\n",
       "      <td>8046</td>\n",
       "      <td>40.44</td>\n",
       "    </tr>\n",
       "  </tbody>\n",
       "</table>\n",
       "</div>"
      ],
      "text/plain": [
       "     Fréquence absolue  Fréquence relative (%)\n",
       "non              11848                   59.56\n",
       "oui               8046                   40.44"
      ]
     },
     "metadata": {},
     "output_type": "display_data"
    },
    {
     "data": {
      "image/png": "[encoded data removed]",
      "text/plain": [
       "<Figure size 1080x288 with 1 Axes>"
      ]
     },
     "metadata": {
      "needs_background": "light"
     },
     "output_type": "display_data"
    },
    {
     "data": {
      "image/png": "[encoded data removed]",
      "text/plain": [
       "<Figure size 1080x288 with 1 Axes>"
      ]
     },
     "metadata": {
      "needs_background": "light"
     },
     "output_type": "display_data"
    },
    {
     "name": "stdout",
     "output_type": "stream",
     "text": [
      "Uniquement pour les embauches\n",
      "Fréquences absolue et relative de  dispo  :\n"
     ]
    },
    {
     "data": {
      "text/html": [
       "<div>\n",
       "<style scoped>\n",
       "    .dataframe tbody tr th:only-of-type {\n",
       "        vertical-align: middle;\n",
       "    }\n",
       "\n",
       "    .dataframe tbody tr th {\n",
       "        vertical-align: top;\n",
       "    }\n",
       "\n",
       "    .dataframe thead th {\n",
       "        text-align: right;\n",
       "    }\n",
       "</style>\n",
       "<table border=\"1\" class=\"dataframe\">\n",
       "  <thead>\n",
       "    <tr style=\"text-align: right;\">\n",
       "      <th></th>\n",
       "      <th>Fréquence absolue</th>\n",
       "      <th>Fréquence relative (%)</th>\n",
       "    </tr>\n",
       "  </thead>\n",
       "  <tbody>\n",
       "    <tr>\n",
       "      <th>non</th>\n",
       "      <td>1324</td>\n",
       "      <td>58.1</td>\n",
       "    </tr>\n",
       "    <tr>\n",
       "      <th>oui</th>\n",
       "      <td>955</td>\n",
       "      <td>41.9</td>\n",
       "    </tr>\n",
       "  </tbody>\n",
       "</table>\n",
       "</div>"
      ],
      "text/plain": [
       "     Fréquence absolue  Fréquence relative (%)\n",
       "non               1324                    58.1\n",
       "oui                955                    41.9"
      ]
     },
     "metadata": {},
     "output_type": "display_data"
    },
    {
     "data": {
      "image/png": "[encoded data removed]",
      "text/plain": [
       "<Figure size 1080x288 with 1 Axes>"
      ]
     },
     "metadata": {
      "needs_background": "light"
     },
     "output_type": "display_data"
    },
    {
     "data": {
      "image/png": "[encoded data removed]",
      "text/plain": [
       "<Figure size 1080x288 with 1 Axes>"
      ]
     },
     "metadata": {
      "needs_background": "light"
     },
     "output_type": "display_data"
    }
   ],
   "source": [
    "# Dispo\n",
    "print(\"Sur le set complet\")\n",
    "absolute_and_relative_freq(df.dispo)\n",
    "print(\"Uniquement pour les embauches\")\n",
    "absolute_and_relative_freq(df[df[\"embauche\"] == 1].dispo)"
   ]
  },
  {
   "cell_type": "markdown",
   "metadata": {},
   "source": [
    "Une distribution inégale avec plus de la moitié des candidats qui ne sont pas disponibles tout de suite (exactement 59.56%)."
   ]
  },
  {
   "cell_type": "markdown",
   "metadata": {},
   "source": [
    "Pour la date de la candidature, effectuons une discrétisation par semestre afin d'avoir une idée des tendances."
   ]
  },
  {
   "cell_type": "code",
   "execution_count": 13,
   "metadata": {},
   "outputs": [],
   "source": [
    "df.loc[ (pd.DatetimeIndex(df['date']).month >= 1) & (pd.DatetimeIndex(df['date']).month <= 6) & (pd.DatetimeIndex(df['date']).year == 2010) , 'semestre'] = \"S1 2010\"\n",
    "df.loc[ (pd.DatetimeIndex(df['date']).month >= 7) & (pd.DatetimeIndex(df['date']).month <= 12) & (pd.DatetimeIndex(df['date']).year == 2010) , 'semestre'] = \"S2 2010\"\n",
    "df.loc[ (pd.DatetimeIndex(df['date']).month >= 1) & (pd.DatetimeIndex(df['date']).month <= 6) & (pd.DatetimeIndex(df['date']).year == 2011) , 'semestre'] = \"S1 2011\"\n",
    "df.loc[ (pd.DatetimeIndex(df['date']).month >= 7) & (pd.DatetimeIndex(df['date']).month <= 12) & (pd.DatetimeIndex(df['date']).year == 2011) , 'semestre'] = \"S2 2011\"\n",
    "df.loc[ (pd.DatetimeIndex(df['date']).month >= 1) & (pd.DatetimeIndex(df['date']).month <= 6) & (pd.DatetimeIndex(df['date']).year == 2012) , 'semestre'] = \"S1 2012\"\n",
    "df.loc[ (pd.DatetimeIndex(df['date']).month >= 7) & (pd.DatetimeIndex(df['date']).month <= 12) & (pd.DatetimeIndex(df['date']).year == 2012) , 'semestre'] = \"S2 2012\"\n",
    "df.loc[ (pd.DatetimeIndex(df['date']).month >= 1) & (pd.DatetimeIndex(df['date']).month <= 6) & (pd.DatetimeIndex(df['date']).year == 2013) , 'semestre'] = \"S1 2013\"\n",
    "df.loc[ (pd.DatetimeIndex(df['date']).month >= 7) & (pd.DatetimeIndex(df['date']).month <= 12) & (pd.DatetimeIndex(df['date']).year == 2013) , 'semestre'] = \"S2 2013\"\n",
    "df.loc[ (pd.DatetimeIndex(df['date']).month >= 1) & (pd.DatetimeIndex(df['date']).month <= 6) & (pd.DatetimeIndex(df['date']).year == 2014) , 'semestre'] = \"S1 2014\"\n",
    "df.loc[ (pd.DatetimeIndex(df['date']).month >= 7) & (pd.DatetimeIndex(df['date']).month <= 12) & (pd.DatetimeIndex(df['date']).year == 2014) , 'semestre'] = \"S2 2014\""
   ]
  },
  {
   "cell_type": "code",
   "execution_count": 14,
   "metadata": {},
   "outputs": [
    {
     "name": "stdout",
     "output_type": "stream",
     "text": [
      "Sur le set complet\n",
      "Fréquences absolue et relative de  semestre  :\n"
     ]
    },
    {
     "data": {
      "text/html": [
       "<div>\n",
       "<style scoped>\n",
       "    .dataframe tbody tr th:only-of-type {\n",
       "        vertical-align: middle;\n",
       "    }\n",
       "\n",
       "    .dataframe tbody tr th {\n",
       "        vertical-align: top;\n",
       "    }\n",
       "\n",
       "    .dataframe thead th {\n",
       "        text-align: right;\n",
       "    }\n",
       "</style>\n",
       "<table border=\"1\" class=\"dataframe\">\n",
       "  <thead>\n",
       "    <tr style=\"text-align: right;\">\n",
       "      <th></th>\n",
       "      <th>Fréquence absolue</th>\n",
       "      <th>Fréquence relative (%)</th>\n",
       "    </tr>\n",
       "  </thead>\n",
       "  <tbody>\n",
       "    <tr>\n",
       "      <th>S2 2013</th>\n",
       "      <td>2076</td>\n",
       "      <td>10.43</td>\n",
       "    </tr>\n",
       "    <tr>\n",
       "      <th>S2 2014</th>\n",
       "      <td>2035</td>\n",
       "      <td>10.22</td>\n",
       "    </tr>\n",
       "    <tr>\n",
       "      <th>S1 2010</th>\n",
       "      <td>2015</td>\n",
       "      <td>10.12</td>\n",
       "    </tr>\n",
       "    <tr>\n",
       "      <th>S2 2010</th>\n",
       "      <td>2011</td>\n",
       "      <td>10.10</td>\n",
       "    </tr>\n",
       "    <tr>\n",
       "      <th>S1 2012</th>\n",
       "      <td>2006</td>\n",
       "      <td>10.08</td>\n",
       "    </tr>\n",
       "    <tr>\n",
       "      <th>S1 2013</th>\n",
       "      <td>2005</td>\n",
       "      <td>10.07</td>\n",
       "    </tr>\n",
       "    <tr>\n",
       "      <th>S2 2011</th>\n",
       "      <td>1989</td>\n",
       "      <td>9.99</td>\n",
       "    </tr>\n",
       "    <tr>\n",
       "      <th>S2 2012</th>\n",
       "      <td>1944</td>\n",
       "      <td>9.76</td>\n",
       "    </tr>\n",
       "    <tr>\n",
       "      <th>S1 2014</th>\n",
       "      <td>1926</td>\n",
       "      <td>9.67</td>\n",
       "    </tr>\n",
       "    <tr>\n",
       "      <th>S1 2011</th>\n",
       "      <td>1902</td>\n",
       "      <td>9.55</td>\n",
       "    </tr>\n",
       "  </tbody>\n",
       "</table>\n",
       "</div>"
      ],
      "text/plain": [
       "         Fréquence absolue  Fréquence relative (%)\n",
       "S2 2013               2076                   10.43\n",
       "S2 2014               2035                   10.22\n",
       "S1 2010               2015                   10.12\n",
       "S2 2010               2011                   10.10\n",
       "S1 2012               2006                   10.08\n",
       "S1 2013               2005                   10.07\n",
       "S2 2011               1989                    9.99\n",
       "S2 2012               1944                    9.76\n",
       "S1 2014               1926                    9.67\n",
       "S1 2011               1902                    9.55"
      ]
     },
     "metadata": {},
     "output_type": "display_data"
    },
    {
     "data": {
      "image/png": "[encoded data removed]",
      "text/plain": [
       "<Figure size 1080x288 with 1 Axes>"
      ]
     },
     "metadata": {
      "needs_background": "light"
     },
     "output_type": "display_data"
    },
    {
     "data": {
      "image/png": "[encoded data removed]",
      "text/plain": [
       "<Figure size 1080x288 with 1 Axes>"
      ]
     },
     "metadata": {
      "needs_background": "light"
     },
     "output_type": "display_data"
    },
    {
     "name": "stdout",
     "output_type": "stream",
     "text": [
      "Uniquement pour les embauches\n",
      "Fréquences absolue et relative de  semestre  :\n"
     ]
    },
    {
     "data": {
      "text/html": [
       "<div>\n",
       "<style scoped>\n",
       "    .dataframe tbody tr th:only-of-type {\n",
       "        vertical-align: middle;\n",
       "    }\n",
       "\n",
       "    .dataframe tbody tr th {\n",
       "        vertical-align: top;\n",
       "    }\n",
       "\n",
       "    .dataframe thead th {\n",
       "        text-align: right;\n",
       "    }\n",
       "</style>\n",
       "<table border=\"1\" class=\"dataframe\">\n",
       "  <thead>\n",
       "    <tr style=\"text-align: right;\">\n",
       "      <th></th>\n",
       "      <th>Fréquence absolue</th>\n",
       "      <th>Fréquence relative (%)</th>\n",
       "    </tr>\n",
       "  </thead>\n",
       "  <tbody>\n",
       "    <tr>\n",
       "      <th>S2 2013</th>\n",
       "      <td>263</td>\n",
       "      <td>11.56</td>\n",
       "    </tr>\n",
       "    <tr>\n",
       "      <th>S1 2013</th>\n",
       "      <td>253</td>\n",
       "      <td>11.12</td>\n",
       "    </tr>\n",
       "    <tr>\n",
       "      <th>S2 2011</th>\n",
       "      <td>245</td>\n",
       "      <td>10.77</td>\n",
       "    </tr>\n",
       "    <tr>\n",
       "      <th>S1 2012</th>\n",
       "      <td>244</td>\n",
       "      <td>10.73</td>\n",
       "    </tr>\n",
       "    <tr>\n",
       "      <th>S2 2012</th>\n",
       "      <td>230</td>\n",
       "      <td>10.11</td>\n",
       "    </tr>\n",
       "    <tr>\n",
       "      <th>S1 2014</th>\n",
       "      <td>229</td>\n",
       "      <td>10.07</td>\n",
       "    </tr>\n",
       "    <tr>\n",
       "      <th>S2 2010</th>\n",
       "      <td>218</td>\n",
       "      <td>9.58</td>\n",
       "    </tr>\n",
       "    <tr>\n",
       "      <th>S2 2014</th>\n",
       "      <td>215</td>\n",
       "      <td>9.45</td>\n",
       "    </tr>\n",
       "    <tr>\n",
       "      <th>S1 2010</th>\n",
       "      <td>191</td>\n",
       "      <td>8.40</td>\n",
       "    </tr>\n",
       "    <tr>\n",
       "      <th>S1 2011</th>\n",
       "      <td>187</td>\n",
       "      <td>8.22</td>\n",
       "    </tr>\n",
       "  </tbody>\n",
       "</table>\n",
       "</div>"
      ],
      "text/plain": [
       "         Fréquence absolue  Fréquence relative (%)\n",
       "S2 2013                263                   11.56\n",
       "S1 2013                253                   11.12\n",
       "S2 2011                245                   10.77\n",
       "S1 2012                244                   10.73\n",
       "S2 2012                230                   10.11\n",
       "S1 2014                229                   10.07\n",
       "S2 2010                218                    9.58\n",
       "S2 2014                215                    9.45\n",
       "S1 2010                191                    8.40\n",
       "S1 2011                187                    8.22"
      ]
     },
     "metadata": {},
     "output_type": "display_data"
    },
    {
     "data": {
      "image/png": "[encoded data removed]",
      "text/plain": [
       "<Figure size 1080x288 with 1 Axes>"
      ]
     },
     "metadata": {
      "needs_background": "light"
     },
     "output_type": "display_data"
    },
    {
     "data": {
      "image/png": "[encoded data removed]",
      "text/plain": [
       "<Figure size 1080x288 with 1 Axes>"
      ]
     },
     "metadata": {
      "needs_background": "light"
     },
     "output_type": "display_data"
    }
   ],
   "source": [
    "# Date\n",
    "print(\"Sur le set complet\")\n",
    "absolute_and_relative_freq(df.semestre)\n",
    "print(\"Uniquement pour les embauches\")\n",
    "absolute_and_relative_freq(df[df[\"embauche\"] == 1].semestre)"
   ]
  },
  {
   "cell_type": "markdown",
   "metadata": {},
   "source": [
    "On voit ici qu'il n'y a pas de forte \"saison d'embauche\". Les différences entre les saisons n'est pas remarquable, cependant on voit une baisse constante."
   ]
  },
  {
   "cell_type": "markdown",
   "metadata": {},
   "source": [
    "### a.2. Les variables continues"
   ]
  },
  {
   "cell_type": "markdown",
   "metadata": {},
   "source": [
    "Pour les variables continues, on va représenter un histogramme, une densité et des statistiques descriptives."
   ]
  },
  {
   "cell_type": "code",
   "execution_count": 15,
   "metadata": {},
   "outputs": [],
   "source": [
    "# Hitogramme\n",
    "def histogram(variable):\n",
    "    global ax\n",
    "    fig_size = (15,4)\n",
    "    font_size = 12\n",
    "    title_size = 15\n",
    "    ax = variable.plot.hist(figsize = fig_size, color = 'teal')\n",
    "    plt.xlabel('%s' %variable.name, fontsize = font_size)\n",
    "    plt.xticks(fontsize = font_size)\n",
    "    plt.title('Histogramme de distribution pour %s' %variable.name, fontsize = title_size)\n",
    "    abs_bar_labels()\n",
    "    plt.show()\n",
    "    \n",
    "# Densité\n",
    "def density_plot(variable):\n",
    "    fig_size = (15,4)\n",
    "    font_size = 12\n",
    "    title_size = 15\n",
    "    plt.figure(figsize = fig_size)\n",
    "    variable.plot.hist(density = True, color = 'orchid')\n",
    "    variable.plot.kde(style = 'k--')\n",
    "    plt.xlabel('%s'%variable.name, fontsize = font_size)\n",
    "    plt.ylabel('Density', fontsize = font_size)\n",
    "    plt.xticks(fontsize = font_size)\n",
    "    plt.yticks(fontsize = font_size)\n",
    "    plt.title('Distribution avec graphe et histogramme pour %s' %variable.name, fontsize = title_size)\n",
    "    plt.show()\n",
    "    \n",
    "# Statistiques\n",
    "def summary_stats(variable):\n",
    "    stats = variable.describe()\n",
    "    skew = pd.Series(variable.skew(), index = ['skewness'])\n",
    "    df_stats = pd.DataFrame(pd.concat([skew, stats], sort = False), columns = [variable.name])\n",
    "    df_stats.index.name = 'Stats'\n",
    "    display(df_stats)"
   ]
  },
  {
   "cell_type": "code",
   "execution_count": 16,
   "metadata": {},
   "outputs": [
    {
     "data": {
      "image/png": "[encoded data removed]",
      "text/plain": [
       "<Figure size 1080x288 with 1 Axes>"
      ]
     },
     "metadata": {
      "needs_background": "light"
     },
     "output_type": "display_data"
    }
   ],
   "source": [
    "# Age\n",
    "histogram(df.age)"
   ]
  },
  {
   "cell_type": "code",
   "execution_count": 17,
   "metadata": {},
   "outputs": [
    {
     "data": {
      "image/png": "[encoded data removed]",
      "text/plain": [
       "<Figure size 1080x288 with 1 Axes>"
      ]
     },
     "metadata": {
      "needs_background": "light"
     },
     "output_type": "display_data"
    }
   ],
   "source": [
    "density_plot(df.age)"
   ]
  },
  {
   "cell_type": "code",
   "execution_count": 18,
   "metadata": {},
   "outputs": [
    {
     "data": {
      "text/html": [
       "<div>\n",
       "<style scoped>\n",
       "    .dataframe tbody tr th:only-of-type {\n",
       "        vertical-align: middle;\n",
       "    }\n",
       "\n",
       "    .dataframe tbody tr th {\n",
       "        vertical-align: top;\n",
       "    }\n",
       "\n",
       "    .dataframe thead th {\n",
       "        text-align: right;\n",
       "    }\n",
       "</style>\n",
       "<table border=\"1\" class=\"dataframe\">\n",
       "  <thead>\n",
       "    <tr style=\"text-align: right;\">\n",
       "      <th></th>\n",
       "      <th>age</th>\n",
       "    </tr>\n",
       "    <tr>\n",
       "      <th>Stats</th>\n",
       "      <th></th>\n",
       "    </tr>\n",
       "  </thead>\n",
       "  <tbody>\n",
       "    <tr>\n",
       "      <th>skewness</th>\n",
       "      <td>0.011699</td>\n",
       "    </tr>\n",
       "    <tr>\n",
       "      <th>count</th>\n",
       "      <td>19909.000000</td>\n",
       "    </tr>\n",
       "    <tr>\n",
       "      <th>mean</th>\n",
       "      <td>35.004521</td>\n",
       "    </tr>\n",
       "    <tr>\n",
       "      <th>std</th>\n",
       "      <td>9.609169</td>\n",
       "    </tr>\n",
       "    <tr>\n",
       "      <th>min</th>\n",
       "      <td>-3.000000</td>\n",
       "    </tr>\n",
       "    <tr>\n",
       "      <th>25%</th>\n",
       "      <td>29.000000</td>\n",
       "    </tr>\n",
       "    <tr>\n",
       "      <th>50%</th>\n",
       "      <td>35.000000</td>\n",
       "    </tr>\n",
       "    <tr>\n",
       "      <th>75%</th>\n",
       "      <td>41.000000</td>\n",
       "    </tr>\n",
       "    <tr>\n",
       "      <th>max</th>\n",
       "      <td>74.000000</td>\n",
       "    </tr>\n",
       "  </tbody>\n",
       "</table>\n",
       "</div>"
      ],
      "text/plain": [
       "                   age\n",
       "Stats                 \n",
       "skewness      0.011699\n",
       "count     19909.000000\n",
       "mean         35.004521\n",
       "std           9.609169\n",
       "min          -3.000000\n",
       "25%          29.000000\n",
       "50%          35.000000\n",
       "75%          41.000000\n",
       "max          74.000000"
      ]
     },
     "metadata": {},
     "output_type": "display_data"
    }
   ],
   "source": [
    "summary_stats(df.age)"
   ]
  },
  {
   "cell_type": "markdown",
   "metadata": {},
   "source": [
    "On remarque que la plupart des candidats sont dans la 30-aine, avec une distribution plutôt symétrique très proche d'une gaussienne centrée en 35. Cela est confirmé par une skewness très proche de 0.\n",
    "\n",
    "On remarque des incohérences : plus de 170 candidats ont moins de 15 ans."
   ]
  },
  {
   "cell_type": "code",
   "execution_count": 19,
   "metadata": {},
   "outputs": [
    {
     "data": {
      "image/png": "[encoded data removed]",
      "text/plain": [
       "<Figure size 1080x288 with 1 Axes>"
      ]
     },
     "metadata": {
      "needs_background": "light"
     },
     "output_type": "display_data"
    }
   ],
   "source": [
    "# Expérience\n",
    "histogram(df.exp)"
   ]
  },
  {
   "cell_type": "code",
   "execution_count": 20,
   "metadata": {},
   "outputs": [
    {
     "data": {
      "image/png": "[encoded data removed]",
      "text/plain": [
       "<Figure size 1080x288 with 1 Axes>"
      ]
     },
     "metadata": {
      "needs_background": "light"
     },
     "output_type": "display_data"
    }
   ],
   "source": [
    "density_plot(df.exp)"
   ]
  },
  {
   "cell_type": "code",
   "execution_count": 21,
   "metadata": {},
   "outputs": [
    {
     "data": {
      "text/html": [
       "<div>\n",
       "<style scoped>\n",
       "    .dataframe tbody tr th:only-of-type {\n",
       "        vertical-align: middle;\n",
       "    }\n",
       "\n",
       "    .dataframe tbody tr th {\n",
       "        vertical-align: top;\n",
       "    }\n",
       "\n",
       "    .dataframe thead th {\n",
       "        text-align: right;\n",
       "    }\n",
       "</style>\n",
       "<table border=\"1\" class=\"dataframe\">\n",
       "  <thead>\n",
       "    <tr style=\"text-align: right;\">\n",
       "      <th></th>\n",
       "      <th>exp</th>\n",
       "    </tr>\n",
       "    <tr>\n",
       "      <th>Stats</th>\n",
       "      <th></th>\n",
       "    </tr>\n",
       "  </thead>\n",
       "  <tbody>\n",
       "    <tr>\n",
       "      <th>skewness</th>\n",
       "      <td>0.006383</td>\n",
       "    </tr>\n",
       "    <tr>\n",
       "      <th>count</th>\n",
       "      <td>19904.000000</td>\n",
       "    </tr>\n",
       "    <tr>\n",
       "      <th>mean</th>\n",
       "      <td>9.500352</td>\n",
       "    </tr>\n",
       "    <tr>\n",
       "      <th>std</th>\n",
       "      <td>3.012109</td>\n",
       "    </tr>\n",
       "    <tr>\n",
       "      <th>min</th>\n",
       "      <td>-2.000000</td>\n",
       "    </tr>\n",
       "    <tr>\n",
       "      <th>25%</th>\n",
       "      <td>7.000000</td>\n",
       "    </tr>\n",
       "    <tr>\n",
       "      <th>50%</th>\n",
       "      <td>9.000000</td>\n",
       "    </tr>\n",
       "    <tr>\n",
       "      <th>75%</th>\n",
       "      <td>12.000000</td>\n",
       "    </tr>\n",
       "    <tr>\n",
       "      <th>max</th>\n",
       "      <td>23.000000</td>\n",
       "    </tr>\n",
       "  </tbody>\n",
       "</table>\n",
       "</div>"
      ],
      "text/plain": [
       "                   exp\n",
       "Stats                 \n",
       "skewness      0.006383\n",
       "count     19904.000000\n",
       "mean          9.500352\n",
       "std           3.012109\n",
       "min          -2.000000\n",
       "25%           7.000000\n",
       "50%           9.000000\n",
       "75%          12.000000\n",
       "max          23.000000"
      ]
     },
     "metadata": {},
     "output_type": "display_data"
    }
   ],
   "source": [
    "summary_stats(df.exp)"
   ]
  },
  {
   "cell_type": "markdown",
   "metadata": {},
   "source": [
    "La plupart des candidats ont une expérience proche de 10 ans, avec une distribution plutôt symétrique très proche d'une gaussienne centrée en 9. Cela est confirmé par une skewness très proche de 0.\n",
    "\n",
    "Cela n'est pas étonnant. Il est normal d'avoir une dizaine d'années d'expérience professionnelle à 35 ans dans le monde de la recherche."
   ]
  },
  {
   "cell_type": "code",
   "execution_count": 22,
   "metadata": {},
   "outputs": [
    {
     "data": {
      "image/png": "[encoded data removed]",
      "text/plain": [
       "<Figure size 1080x288 with 1 Axes>"
      ]
     },
     "metadata": {
      "needs_background": "light"
     },
     "output_type": "display_data"
    }
   ],
   "source": [
    "# Salaire demandé\n",
    "histogram(df.salaire)"
   ]
  },
  {
   "cell_type": "code",
   "execution_count": 23,
   "metadata": {},
   "outputs": [
    {
     "data": {
      "image/png": "[encoded data removed]",
      "text/plain": [
       "<Figure size 1080x288 with 1 Axes>"
      ]
     },
     "metadata": {
      "needs_background": "light"
     },
     "output_type": "display_data"
    }
   ],
   "source": [
    "density_plot(df.salaire)"
   ]
  },
  {
   "cell_type": "code",
   "execution_count": 24,
   "metadata": {},
   "outputs": [
    {
     "data": {
      "text/html": [
       "<div>\n",
       "<style scoped>\n",
       "    .dataframe tbody tr th:only-of-type {\n",
       "        vertical-align: middle;\n",
       "    }\n",
       "\n",
       "    .dataframe tbody tr th {\n",
       "        vertical-align: top;\n",
       "    }\n",
       "\n",
       "    .dataframe thead th {\n",
       "        text-align: right;\n",
       "    }\n",
       "</style>\n",
       "<table border=\"1\" class=\"dataframe\">\n",
       "  <thead>\n",
       "    <tr style=\"text-align: right;\">\n",
       "      <th></th>\n",
       "      <th>salaire</th>\n",
       "    </tr>\n",
       "    <tr>\n",
       "      <th>Stats</th>\n",
       "      <th></th>\n",
       "    </tr>\n",
       "  </thead>\n",
       "  <tbody>\n",
       "    <tr>\n",
       "      <th>skewness</th>\n",
       "      <td>-0.005519</td>\n",
       "    </tr>\n",
       "    <tr>\n",
       "      <th>count</th>\n",
       "      <td>19905.000000</td>\n",
       "    </tr>\n",
       "    <tr>\n",
       "      <th>mean</th>\n",
       "      <td>34974.343934</td>\n",
       "    </tr>\n",
       "    <tr>\n",
       "      <th>std</th>\n",
       "      <td>5003.099616</td>\n",
       "    </tr>\n",
       "    <tr>\n",
       "      <th>min</th>\n",
       "      <td>14128.000000</td>\n",
       "    </tr>\n",
       "    <tr>\n",
       "      <th>25%</th>\n",
       "      <td>31596.000000</td>\n",
       "    </tr>\n",
       "    <tr>\n",
       "      <th>50%</th>\n",
       "      <td>34979.000000</td>\n",
       "    </tr>\n",
       "    <tr>\n",
       "      <th>75%</th>\n",
       "      <td>38358.000000</td>\n",
       "    </tr>\n",
       "    <tr>\n",
       "      <th>max</th>\n",
       "      <td>53977.000000</td>\n",
       "    </tr>\n",
       "  </tbody>\n",
       "</table>\n",
       "</div>"
      ],
      "text/plain": [
       "               salaire\n",
       "Stats                 \n",
       "skewness     -0.005519\n",
       "count     19905.000000\n",
       "mean      34974.343934\n",
       "std        5003.099616\n",
       "min       14128.000000\n",
       "25%       31596.000000\n",
       "50%       34979.000000\n",
       "75%       38358.000000\n",
       "max       53977.000000"
      ]
     },
     "metadata": {},
     "output_type": "display_data"
    }
   ],
   "source": [
    "summary_stats(df.salaire)"
   ]
  },
  {
   "cell_type": "markdown",
   "metadata": {},
   "source": [
    "La plupart des candidats demandent un salaire entre 30k et 40k, avec une distribution plutôt symétrique très proche d'une gaussienne centrée en 35k. Cela est confirmé par une skewness très proche de 0, cette fois négatif : Il semblerait que la moyenne soit centrée un peu plus à droite par rapport aux autres distributions."
   ]
  },
  {
   "cell_type": "code",
   "execution_count": 25,
   "metadata": {},
   "outputs": [
    {
     "data": {
      "image/png": "[encoded data removed]",
      "text/plain": [
       "<Figure size 1080x288 with 1 Axes>"
      ]
     },
     "metadata": {
      "needs_background": "light"
     },
     "output_type": "display_data"
    }
   ],
   "source": [
    "# Note\n",
    "histogram(df.note)"
   ]
  },
  {
   "cell_type": "code",
   "execution_count": 26,
   "metadata": {},
   "outputs": [
    {
     "data": {
      "image/png": "[encoded data removed]",
      "text/plain": [
       "<Figure size 1080x288 with 1 Axes>"
      ]
     },
     "metadata": {
      "needs_background": "light"
     },
     "output_type": "display_data"
    }
   ],
   "source": [
    "density_plot(df.note)"
   ]
  },
  {
   "cell_type": "code",
   "execution_count": 27,
   "metadata": {},
   "outputs": [
    {
     "data": {
      "text/html": [
       "<div>\n",
       "<style scoped>\n",
       "    .dataframe tbody tr th:only-of-type {\n",
       "        vertical-align: middle;\n",
       "    }\n",
       "\n",
       "    .dataframe tbody tr th {\n",
       "        vertical-align: top;\n",
       "    }\n",
       "\n",
       "    .dataframe thead th {\n",
       "        text-align: right;\n",
       "    }\n",
       "</style>\n",
       "<table border=\"1\" class=\"dataframe\">\n",
       "  <thead>\n",
       "    <tr style=\"text-align: right;\">\n",
       "      <th></th>\n",
       "      <th>note</th>\n",
       "    </tr>\n",
       "    <tr>\n",
       "      <th>Stats</th>\n",
       "      <th></th>\n",
       "    </tr>\n",
       "  </thead>\n",
       "  <tbody>\n",
       "    <tr>\n",
       "      <th>skewness</th>\n",
       "      <td>-0.009946</td>\n",
       "    </tr>\n",
       "    <tr>\n",
       "      <th>count</th>\n",
       "      <td>19886.000000</td>\n",
       "    </tr>\n",
       "    <tr>\n",
       "      <th>mean</th>\n",
       "      <td>75.168762</td>\n",
       "    </tr>\n",
       "    <tr>\n",
       "      <th>std</th>\n",
       "      <td>17.095926</td>\n",
       "    </tr>\n",
       "    <tr>\n",
       "      <th>min</th>\n",
       "      <td>8.680000</td>\n",
       "    </tr>\n",
       "    <tr>\n",
       "      <th>25%</th>\n",
       "      <td>63.720000</td>\n",
       "    </tr>\n",
       "    <tr>\n",
       "      <th>50%</th>\n",
       "      <td>75.080000</td>\n",
       "    </tr>\n",
       "    <tr>\n",
       "      <th>75%</th>\n",
       "      <td>86.617500</td>\n",
       "    </tr>\n",
       "    <tr>\n",
       "      <th>max</th>\n",
       "      <td>143.220000</td>\n",
       "    </tr>\n",
       "  </tbody>\n",
       "</table>\n",
       "</div>"
      ],
      "text/plain": [
       "                  note\n",
       "Stats                 \n",
       "skewness     -0.009946\n",
       "count     19886.000000\n",
       "mean         75.168762\n",
       "std          17.095926\n",
       "min           8.680000\n",
       "25%          63.720000\n",
       "50%          75.080000\n",
       "75%          86.617500\n",
       "max         143.220000"
      ]
     },
     "metadata": {},
     "output_type": "display_data"
    }
   ],
   "source": [
    "summary_stats(df.note)"
   ]
  },
  {
   "cell_type": "markdown",
   "metadata": {},
   "source": [
    "La plupart des candidats ont eu un score entre 60 et 90, avec une distribution plutôt symétrique très proche d'une gaussienne centrée en 75. Cela est confirmé par une skewness très proche de 0.\n",
    "\n",
    "On remarque que plus de 1000 candidats ont une note supérieure à 100. Les variables contenant des incohérences suivent cependant une gaussienne symétrique, on peut donc se dire qu’il s’agit ici de la manière dont la donnée a été enregistrée par le logiciel et non des erreurs d’entrées par les candidats. On va donc garder les incohérences pour les données qui ont une distribution symétrique gaussienne."
   ]
  },
  {
   "cell_type": "markdown",
   "metadata": {},
   "source": [
    "## b. Dépendances statistiques significatives"
   ]
  },
  {
   "cell_type": "markdown",
   "metadata": {},
   "source": [
    "### b.1. Nettoyage des données"
   ]
  },
  {
   "cell_type": "markdown",
   "metadata": {},
   "source": [
    "Comme on l'a vu, certaines features demandent d'être retravaillées, que ce soient l'age ou la note qui possèdent des valeurs incohérentes, ou bien des NaN à gérer. Ensuite, nous pourrons plus aisément décrire les dépendances statistiques entre les variables.\n",
    "\n",
    "Le choix ici sera entre retirer les lignes contenant des NaN, les remplacer par la moyenne de la colonne ou bien par la valeur la plus représentée. Le souci pour la dernière est l'apparition d'un biais."
   ]
  },
  {
   "cell_type": "code",
   "execution_count": 28,
   "metadata": {},
   "outputs": [
    {
     "data": {
      "application/vnd.plotly.v1+json": {
       "config": {
        "linkText": "Export to plot.ly",
        "plotlyServerURL": "https://plot.ly",
        "showLink": false
       },
       "data": [
        {
         "marker": {
          "color": [
           91,
           103,
           91,
           96,
           95,
           100,
           110,
           93,
           114,
           106,
           91
          ],
          "colorscale": [
           [
            0,
            "rgb(150,0,90)"
           ],
           [
            0.125,
            "rgb(0,0,200)"
           ],
           [
            0.25,
            "rgb(0,25,255)"
           ],
           [
            0.375,
            "rgb(0,152,255)"
           ],
           [
            0.5,
            "rgb(44,255,150)"
           ],
           [
            0.625,
            "rgb(151,255,0)"
           ],
           [
            0.75,
            "rgb(255,234,0)"
           ],
           [
            0.875,
            "rgb(255,111,0)"
           ],
           [
            1,
            "rgb(255,0,0)"
           ]
          ],
          "showscale": true,
          "size": 30
         },
         "mode": "markers",
         "type": "scatter",
         "x": [
          "date",
          "cheveux",
          "age",
          "exp",
          "salaire",
          "sexe",
          "diplome",
          "specialite",
          "note",
          "dispo",
          "semestre"
         ],
         "y": [
          91,
          103,
          91,
          96,
          95,
          100,
          110,
          93,
          114,
          106,
          91
         ]
        }
       ],
       "layout": {
        "hovermode": "closest",
        "template": {
         "data": {
          "bar": [
           {
            "error_x": {
             "color": "#2a3f5f"
            },
            "error_y": {
             "color": "#2a3f5f"
            },
            "marker": {
             "line": {
              "color": "#E5ECF6",
              "width": 0.5
             }
            },
            "type": "bar"
           }
          ],
          "barpolar": [
           {
            "marker": {
             "line": {
              "color": "#E5ECF6",
              "width": 0.5
             }
            },
            "type": "barpolar"
           }
          ],
          "carpet": [
           {
            "aaxis": {
             "endlinecolor": "#2a3f5f",
             "gridcolor": "white",
             "linecolor": "white",
             "minorgridcolor": "white",
             "startlinecolor": "#2a3f5f"
            },
            "baxis": {
             "endlinecolor": "#2a3f5f",
             "gridcolor": "white",
             "linecolor": "white",
             "minorgridcolor": "white",
             "startlinecolor": "#2a3f5f"
            },
            "type": "carpet"
           }
          ],
          "choropleth": [
           {
            "colorbar": {
             "outlinewidth": 0,
             "ticks": ""
            },
            "type": "choropleth"
           }
          ],
          "contour": [
           {
            "colorbar": {
             "outlinewidth": 0,
             "ticks": ""
            },
            "colorscale": [
             [
              0,
              "#0d0887"
             ],
             [
              0.1111111111111111,
              "#46039f"
             ],
             [
              0.2222222222222222,
              "#7201a8"
             ],
             [
              0.3333333333333333,
              "#9c179e"
             ],
             [
              0.4444444444444444,
              "#bd3786"
             ],
             [
              0.5555555555555556,
              "#d8576b"
             ],
             [
              0.6666666666666666,
              "#ed7953"
             ],
             [
              0.7777777777777778,
              "#fb9f3a"
             ],
             [
              0.8888888888888888,
              "#fdca26"
             ],
             [
              1,
              "#f0f921"
             ]
            ],
            "type": "contour"
           }
          ],
          "contourcarpet": [
           {
            "colorbar": {
             "outlinewidth": 0,
             "ticks": ""
            },
            "type": "contourcarpet"
           }
          ],
          "heatmap": [
           {
            "colorbar": {
             "outlinewidth": 0,
             "ticks": ""
            },
            "colorscale": [
             [
              0,
              "#0d0887"
             ],
             [
              0.1111111111111111,
              "#46039f"
             ],
             [
              0.2222222222222222,
              "#7201a8"
             ],
             [
              0.3333333333333333,
              "#9c179e"
             ],
             [
              0.4444444444444444,
              "#bd3786"
             ],
             [
              0.5555555555555556,
              "#d8576b"
             ],
             [
              0.6666666666666666,
              "#ed7953"
             ],
             [
              0.7777777777777778,
              "#fb9f3a"
             ],
             [
              0.8888888888888888,
              "#fdca26"
             ],
             [
              1,
              "#f0f921"
             ]
            ],
            "type": "heatmap"
           }
          ],
          "heatmapgl": [
           {
            "colorbar": {
             "outlinewidth": 0,
             "ticks": ""
            },
            "colorscale": [
             [
              0,
              "#0d0887"
             ],
             [
              0.1111111111111111,
              "#46039f"
             ],
             [
              0.2222222222222222,
              "#7201a8"
             ],
             [
              0.3333333333333333,
              "#9c179e"
             ],
             [
              0.4444444444444444,
              "#bd3786"
             ],
             [
              0.5555555555555556,
              "#d8576b"
             ],
             [
              0.6666666666666666,
              "#ed7953"
             ],
             [
              0.7777777777777778,
              "#fb9f3a"
             ],
             [
              0.8888888888888888,
              "#fdca26"
             ],
             [
              1,
              "#f0f921"
             ]
            ],
            "type": "heatmapgl"
           }
          ],
          "histogram": [
           {
            "marker": {
             "colorbar": {
              "outlinewidth": 0,
              "ticks": ""
             }
            },
            "type": "histogram"
           }
          ],
          "histogram2d": [
           {
            "colorbar": {
             "outlinewidth": 0,
             "ticks": ""
            },
            "colorscale": [
             [
              0,
              "#0d0887"
             ],
             [
              0.1111111111111111,
              "#46039f"
             ],
             [
              0.2222222222222222,
              "#7201a8"
             ],
             [
              0.3333333333333333,
              "#9c179e"
             ],
             [
              0.4444444444444444,
              "#bd3786"
             ],
             [
              0.5555555555555556,
              "#d8576b"
             ],
             [
              0.6666666666666666,
              "#ed7953"
             ],
             [
              0.7777777777777778,
              "#fb9f3a"
             ],
             [
              0.8888888888888888,
              "#fdca26"
             ],
             [
              1,
              "#f0f921"
             ]
            ],
            "type": "histogram2d"
           }
          ],
          "histogram2dcontour": [
           {
            "colorbar": {
             "outlinewidth": 0,
             "ticks": ""
            },
            "colorscale": [
             [
              0,
              "#0d0887"
             ],
             [
              0.1111111111111111,
              "#46039f"
             ],
             [
              0.2222222222222222,
              "#7201a8"
             ],
             [
              0.3333333333333333,
              "#9c179e"
             ],
             [
              0.4444444444444444,
              "#bd3786"
             ],
             [
              0.5555555555555556,
              "#d8576b"
             ],
             [
              0.6666666666666666,
              "#ed7953"
             ],
             [
              0.7777777777777778,
              "#fb9f3a"
             ],
             [
              0.8888888888888888,
              "#fdca26"
             ],
             [
              1,
              "#f0f921"
             ]
            ],
            "type": "histogram2dcontour"
           }
          ],
          "mesh3d": [
           {
            "colorbar": {
             "outlinewidth": 0,
             "ticks": ""
            },
            "type": "mesh3d"
           }
          ],
          "parcoords": [
           {
            "line": {
             "colorbar": {
              "outlinewidth": 0,
              "ticks": ""
             }
            },
            "type": "parcoords"
           }
          ],
          "pie": [
           {
            "automargin": true,
            "type": "pie"
           }
          ],
          "scatter": [
           {
            "marker": {
             "colorbar": {
              "outlinewidth": 0,
              "ticks": ""
             }
            },
            "type": "scatter"
           }
          ],
          "scatter3d": [
           {
            "line": {
             "colorbar": {
              "outlinewidth": 0,
              "ticks": ""
             }
            },
            "marker": {
             "colorbar": {
              "outlinewidth": 0,
              "ticks": ""
             }
            },
            "type": "scatter3d"
           }
          ],
          "scattercarpet": [
           {
            "marker": {
             "colorbar": {
              "outlinewidth": 0,
              "ticks": ""
             }
            },
            "type": "scattercarpet"
           }
          ],
          "scattergeo": [
           {
            "marker": {
             "colorbar": {
              "outlinewidth": 0,
              "ticks": ""
             }
            },
            "type": "scattergeo"
           }
          ],
          "scattergl": [
           {
            "marker": {
             "colorbar": {
              "outlinewidth": 0,
              "ticks": ""
             }
            },
            "type": "scattergl"
           }
          ],
          "scattermapbox": [
           {
            "marker": {
             "colorbar": {
              "outlinewidth": 0,
              "ticks": ""
             }
            },
            "type": "scattermapbox"
           }
          ],
          "scatterpolar": [
           {
            "marker": {
             "colorbar": {
              "outlinewidth": 0,
              "ticks": ""
             }
            },
            "type": "scatterpolar"
           }
          ],
          "scatterpolargl": [
           {
            "marker": {
             "colorbar": {
              "outlinewidth": 0,
              "ticks": ""
             }
            },
            "type": "scatterpolargl"
           }
          ],
          "scatterternary": [
           {
            "marker": {
             "colorbar": {
              "outlinewidth": 0,
              "ticks": ""
             }
            },
            "type": "scatterternary"
           }
          ],
          "surface": [
           {
            "colorbar": {
             "outlinewidth": 0,
             "ticks": ""
            },
            "colorscale": [
             [
              0,
              "#0d0887"
             ],
             [
              0.1111111111111111,
              "#46039f"
             ],
             [
              0.2222222222222222,
              "#7201a8"
             ],
             [
              0.3333333333333333,
              "#9c179e"
             ],
             [
              0.4444444444444444,
              "#bd3786"
             ],
             [
              0.5555555555555556,
              "#d8576b"
             ],
             [
              0.6666666666666666,
              "#ed7953"
             ],
             [
              0.7777777777777778,
              "#fb9f3a"
             ],
             [
              0.8888888888888888,
              "#fdca26"
             ],
             [
              1,
              "#f0f921"
             ]
            ],
            "type": "surface"
           }
          ],
          "table": [
           {
            "cells": {
             "fill": {
              "color": "#EBF0F8"
             },
             "line": {
              "color": "white"
             }
            },
            "header": {
             "fill": {
              "color": "#C8D4E3"
             },
             "line": {
              "color": "white"
             }
            },
            "type": "table"
           }
          ]
         },
         "layout": {
          "annotationdefaults": {
           "arrowcolor": "#2a3f5f",
           "arrowhead": 0,
           "arrowwidth": 1
          },
          "coloraxis": {
           "colorbar": {
            "outlinewidth": 0,
            "ticks": ""
           }
          },
          "colorscale": {
           "diverging": [
            [
             0,
             "#8e0152"
            ],
            [
             0.1,
             "#c51b7d"
            ],
            [
             0.2,
             "#de77ae"
            ],
            [
             0.3,
             "#f1b6da"
            ],
            [
             0.4,
             "#fde0ef"
            ],
            [
             0.5,
             "#f7f7f7"
            ],
            [
             0.6,
             "#e6f5d0"
            ],
            [
             0.7,
             "#b8e186"
            ],
            [
             0.8,
             "#7fbc41"
            ],
            [
             0.9,
             "#4d9221"
            ],
            [
             1,
             "#276419"
            ]
           ],
           "sequential": [
            [
             0,
             "#0d0887"
            ],
            [
             0.1111111111111111,
             "#46039f"
            ],
            [
             0.2222222222222222,
             "#7201a8"
            ],
            [
             0.3333333333333333,
             "#9c179e"
            ],
            [
             0.4444444444444444,
             "#bd3786"
            ],
            [
             0.5555555555555556,
             "#d8576b"
            ],
            [
             0.6666666666666666,
             "#ed7953"
            ],
            [
             0.7777777777777778,
             "#fb9f3a"
            ],
            [
             0.8888888888888888,
             "#fdca26"
            ],
            [
             1,
             "#f0f921"
            ]
           ],
           "sequentialminus": [
            [
             0,
             "#0d0887"
            ],
            [
             0.1111111111111111,
             "#46039f"
            ],
            [
             0.2222222222222222,
             "#7201a8"
            ],
            [
             0.3333333333333333,
             "#9c179e"
            ],
            [
             0.4444444444444444,
             "#bd3786"
            ],
            [
             0.5555555555555556,
             "#d8576b"
            ],
            [
             0.6666666666666666,
             "#ed7953"
            ],
            [
             0.7777777777777778,
             "#fb9f3a"
            ],
            [
             0.8888888888888888,
             "#fdca26"
            ],
            [
             1,
             "#f0f921"
            ]
           ]
          },
          "colorway": [
           "#636efa",
           "#EF553B",
           "#00cc96",
           "#ab63fa",
           "#FFA15A",
           "#19d3f3",
           "#FF6692",
           "#B6E880",
           "#FF97FF",
           "#FECB52"
          ],
          "font": {
           "color": "#2a3f5f"
          },
          "geo": {
           "bgcolor": "white",
           "lakecolor": "white",
           "landcolor": "#E5ECF6",
           "showlakes": true,
           "showland": true,
           "subunitcolor": "white"
          },
          "hoverlabel": {
           "align": "left"
          },
          "hovermode": "closest",
          "mapbox": {
           "style": "light"
          },
          "paper_bgcolor": "white",
          "plot_bgcolor": "#E5ECF6",
          "polar": {
           "angularaxis": {
            "gridcolor": "white",
            "linecolor": "white",
            "ticks": ""
           },
           "bgcolor": "#E5ECF6",
           "radialaxis": {
            "gridcolor": "white",
            "linecolor": "white",
            "ticks": ""
           }
          },
          "scene": {
           "xaxis": {
            "backgroundcolor": "#E5ECF6",
            "gridcolor": "white",
            "gridwidth": 2,
            "linecolor": "white",
            "showbackground": true,
            "ticks": "",
            "zerolinecolor": "white"
           },
           "yaxis": {
            "backgroundcolor": "#E5ECF6",
            "gridcolor": "white",
            "gridwidth": 2,
            "linecolor": "white",
            "showbackground": true,
            "ticks": "",
            "zerolinecolor": "white"
           },
           "zaxis": {
            "backgroundcolor": "#E5ECF6",
            "gridcolor": "white",
            "gridwidth": 2,
            "linecolor": "white",
            "showbackground": true,
            "ticks": "",
            "zerolinecolor": "white"
           }
          },
          "shapedefaults": {
           "line": {
            "color": "#2a3f5f"
           }
          },
          "ternary": {
           "aaxis": {
            "gridcolor": "white",
            "linecolor": "white",
            "ticks": ""
           },
           "baxis": {
            "gridcolor": "white",
            "linecolor": "white",
            "ticks": ""
           },
           "bgcolor": "#E5ECF6",
           "caxis": {
            "gridcolor": "white",
            "linecolor": "white",
            "ticks": ""
           }
          },
          "title": {
           "x": 0.05
          },
          "xaxis": {
           "automargin": true,
           "gridcolor": "white",
           "linecolor": "white",
           "ticks": "",
           "title": {
            "standoff": 15
           },
           "zerolinecolor": "white",
           "zerolinewidth": 2
          },
          "yaxis": {
           "automargin": true,
           "gridcolor": "white",
           "linecolor": "white",
           "ticks": "",
           "title": {
            "standoff": 15
           },
           "zerolinecolor": "white",
           "zerolinewidth": 2
          }
         }
        },
        "title": {
         "text": "Variables avec des valeurs manquantes"
        },
        "yaxis": {
         "title": {
          "text": "Valeurs manquantes"
         }
        }
       }
      },
      "text/html": [
       "<div>\n",
       "        \n",
       "        \n",
       "            <div id=\"5f8bea9b-00d3-4652-82d7-9f2a2a9b2344\" class=\"plotly-graph-div\" style=\"height:525px; width:100%;\"></div>\n",
       "            <script type=\"text/javascript\">\n",
       "                require([\"plotly\"], function(Plotly) {\n",
       "                    window.PLOTLYENV=window.PLOTLYENV || {};\n",
       "                    \n",
       "                if (document.getElementById(\"5f8bea9b-00d3-4652-82d7-9f2a2a9b2344\")) {\n",
       "                    Plotly.newPlot(\n",
       "                        '5f8bea9b-00d3-4652-82d7-9f2a2a9b2344',\n",
       "                        [{\"marker\": {\"color\": [91, 103, 91, 96, 95, 100, 110, 93, 114, 106, 91], \"colorscale\": [[0.0, \"rgb(150,0,90)\"], [0.125, \"rgb(0,0,200)\"], [0.25, \"rgb(0,25,255)\"], [0.375, \"rgb(0,152,255)\"], [0.5, \"rgb(44,255,150)\"], [0.625, \"rgb(151,255,0)\"], [0.75, \"rgb(255,234,0)\"], [0.875, \"rgb(255,111,0)\"], [1.0, \"rgb(255,0,0)\"]], \"showscale\": true, \"size\": 30}, \"mode\": \"markers\", \"type\": \"scatter\", \"x\": [\"date\", \"cheveux\", \"age\", \"exp\", \"salaire\", \"sexe\", \"diplome\", \"specialite\", \"note\", \"dispo\", \"semestre\"], \"y\": [91, 103, 91, 96, 95, 100, 110, 93, 114, 106, 91]}],\n",
       "                        {\"hovermode\": \"closest\", \"template\": {\"data\": {\"bar\": [{\"error_x\": {\"color\": \"#2a3f5f\"}, \"error_y\": {\"color\": \"#2a3f5f\"}, \"marker\": {\"line\": {\"color\": \"#E5ECF6\", \"width\": 0.5}}, \"type\": \"bar\"}], \"barpolar\": [{\"marker\": {\"line\": {\"color\": \"#E5ECF6\", \"width\": 0.5}}, \"type\": \"barpolar\"}], \"carpet\": [{\"aaxis\": {\"endlinecolor\": \"#2a3f5f\", \"gridcolor\": \"white\", \"linecolor\": \"white\", \"minorgridcolor\": \"white\", \"startlinecolor\": \"#2a3f5f\"}, \"baxis\": {\"endlinecolor\": \"#2a3f5f\", \"gridcolor\": \"white\", \"linecolor\": \"white\", \"minorgridcolor\": \"white\", \"startlinecolor\": \"#2a3f5f\"}, \"type\": \"carpet\"}], \"choropleth\": [{\"colorbar\": {\"outlinewidth\": 0, \"ticks\": \"\"}, \"type\": \"choropleth\"}], \"contour\": [{\"colorbar\": {\"outlinewidth\": 0, \"ticks\": \"\"}, \"colorscale\": [[0.0, \"#0d0887\"], [0.1111111111111111, \"#46039f\"], [0.2222222222222222, \"#7201a8\"], [0.3333333333333333, \"#9c179e\"], [0.4444444444444444, \"#bd3786\"], [0.5555555555555556, \"#d8576b\"], [0.6666666666666666, \"#ed7953\"], [0.7777777777777778, \"#fb9f3a\"], [0.8888888888888888, \"#fdca26\"], [1.0, \"#f0f921\"]], \"type\": \"contour\"}], \"contourcarpet\": [{\"colorbar\": {\"outlinewidth\": 0, \"ticks\": \"\"}, \"type\": \"contourcarpet\"}], \"heatmap\": [{\"colorbar\": {\"outlinewidth\": 0, \"ticks\": \"\"}, \"colorscale\": [[0.0, \"#0d0887\"], [0.1111111111111111, \"#46039f\"], [0.2222222222222222, \"#7201a8\"], [0.3333333333333333, \"#9c179e\"], [0.4444444444444444, \"#bd3786\"], [0.5555555555555556, \"#d8576b\"], [0.6666666666666666, \"#ed7953\"], [0.7777777777777778, \"#fb9f3a\"], [0.8888888888888888, \"#fdca26\"], [1.0, \"#f0f921\"]], \"type\": \"heatmap\"}], \"heatmapgl\": [{\"colorbar\": {\"outlinewidth\": 0, \"ticks\": \"\"}, \"colorscale\": [[0.0, \"#0d0887\"], [0.1111111111111111, \"#46039f\"], [0.2222222222222222, \"#7201a8\"], [0.3333333333333333, \"#9c179e\"], [0.4444444444444444, \"#bd3786\"], [0.5555555555555556, \"#d8576b\"], [0.6666666666666666, \"#ed7953\"], [0.7777777777777778, \"#fb9f3a\"], [0.8888888888888888, \"#fdca26\"], [1.0, \"#f0f921\"]], \"type\": \"heatmapgl\"}], \"histogram\": [{\"marker\": {\"colorbar\": {\"outlinewidth\": 0, \"ticks\": \"\"}}, \"type\": \"histogram\"}], \"histogram2d\": [{\"colorbar\": {\"outlinewidth\": 0, \"ticks\": \"\"}, \"colorscale\": [[0.0, \"#0d0887\"], [0.1111111111111111, \"#46039f\"], [0.2222222222222222, \"#7201a8\"], [0.3333333333333333, \"#9c179e\"], [0.4444444444444444, \"#bd3786\"], [0.5555555555555556, \"#d8576b\"], [0.6666666666666666, \"#ed7953\"], [0.7777777777777778, \"#fb9f3a\"], [0.8888888888888888, \"#fdca26\"], [1.0, \"#f0f921\"]], \"type\": \"histogram2d\"}], \"histogram2dcontour\": [{\"colorbar\": {\"outlinewidth\": 0, \"ticks\": \"\"}, \"colorscale\": [[0.0, \"#0d0887\"], [0.1111111111111111, \"#46039f\"], [0.2222222222222222, \"#7201a8\"], [0.3333333333333333, \"#9c179e\"], [0.4444444444444444, \"#bd3786\"], [0.5555555555555556, \"#d8576b\"], [0.6666666666666666, \"#ed7953\"], [0.7777777777777778, \"#fb9f3a\"], [0.8888888888888888, \"#fdca26\"], [1.0, \"#f0f921\"]], \"type\": \"histogram2dcontour\"}], \"mesh3d\": [{\"colorbar\": {\"outlinewidth\": 0, \"ticks\": \"\"}, \"type\": \"mesh3d\"}], \"parcoords\": [{\"line\": {\"colorbar\": {\"outlinewidth\": 0, \"ticks\": \"\"}}, \"type\": \"parcoords\"}], \"pie\": [{\"automargin\": true, \"type\": \"pie\"}], \"scatter\": [{\"marker\": {\"colorbar\": {\"outlinewidth\": 0, \"ticks\": \"\"}}, \"type\": \"scatter\"}], \"scatter3d\": [{\"line\": {\"colorbar\": {\"outlinewidth\": 0, \"ticks\": \"\"}}, \"marker\": {\"colorbar\": {\"outlinewidth\": 0, \"ticks\": \"\"}}, \"type\": \"scatter3d\"}], \"scattercarpet\": [{\"marker\": {\"colorbar\": {\"outlinewidth\": 0, \"ticks\": \"\"}}, \"type\": \"scattercarpet\"}], \"scattergeo\": [{\"marker\": {\"colorbar\": {\"outlinewidth\": 0, \"ticks\": \"\"}}, \"type\": \"scattergeo\"}], \"scattergl\": [{\"marker\": {\"colorbar\": {\"outlinewidth\": 0, \"ticks\": \"\"}}, \"type\": \"scattergl\"}], \"scattermapbox\": [{\"marker\": {\"colorbar\": {\"outlinewidth\": 0, \"ticks\": \"\"}}, \"type\": \"scattermapbox\"}], \"scatterpolar\": [{\"marker\": {\"colorbar\": {\"outlinewidth\": 0, \"ticks\": \"\"}}, \"type\": \"scatterpolar\"}], \"scatterpolargl\": [{\"marker\": {\"colorbar\": {\"outlinewidth\": 0, \"ticks\": \"\"}}, \"type\": \"scatterpolargl\"}], \"scatterternary\": [{\"marker\": {\"colorbar\": {\"outlinewidth\": 0, \"ticks\": \"\"}}, \"type\": \"scatterternary\"}], \"surface\": [{\"colorbar\": {\"outlinewidth\": 0, \"ticks\": \"\"}, \"colorscale\": [[0.0, \"#0d0887\"], [0.1111111111111111, \"#46039f\"], [0.2222222222222222, \"#7201a8\"], [0.3333333333333333, \"#9c179e\"], [0.4444444444444444, \"#bd3786\"], [0.5555555555555556, \"#d8576b\"], [0.6666666666666666, \"#ed7953\"], [0.7777777777777778, \"#fb9f3a\"], [0.8888888888888888, \"#fdca26\"], [1.0, \"#f0f921\"]], \"type\": \"surface\"}], \"table\": [{\"cells\": {\"fill\": {\"color\": \"#EBF0F8\"}, \"line\": {\"color\": \"white\"}}, \"header\": {\"fill\": {\"color\": \"#C8D4E3\"}, \"line\": {\"color\": \"white\"}}, \"type\": \"table\"}]}, \"layout\": {\"annotationdefaults\": {\"arrowcolor\": \"#2a3f5f\", \"arrowhead\": 0, \"arrowwidth\": 1}, \"coloraxis\": {\"colorbar\": {\"outlinewidth\": 0, \"ticks\": \"\"}}, \"colorscale\": {\"diverging\": [[0, \"#8e0152\"], [0.1, \"#c51b7d\"], [0.2, \"#de77ae\"], [0.3, \"#f1b6da\"], [0.4, \"#fde0ef\"], [0.5, \"#f7f7f7\"], [0.6, \"#e6f5d0\"], [0.7, \"#b8e186\"], [0.8, \"#7fbc41\"], [0.9, \"#4d9221\"], [1, \"#276419\"]], \"sequential\": [[0.0, \"#0d0887\"], [0.1111111111111111, \"#46039f\"], [0.2222222222222222, \"#7201a8\"], [0.3333333333333333, \"#9c179e\"], [0.4444444444444444, \"#bd3786\"], [0.5555555555555556, \"#d8576b\"], [0.6666666666666666, \"#ed7953\"], [0.7777777777777778, \"#fb9f3a\"], [0.8888888888888888, \"#fdca26\"], [1.0, \"#f0f921\"]], \"sequentialminus\": [[0.0, \"#0d0887\"], [0.1111111111111111, \"#46039f\"], [0.2222222222222222, \"#7201a8\"], [0.3333333333333333, \"#9c179e\"], [0.4444444444444444, \"#bd3786\"], [0.5555555555555556, \"#d8576b\"], [0.6666666666666666, \"#ed7953\"], [0.7777777777777778, \"#fb9f3a\"], [0.8888888888888888, \"#fdca26\"], [1.0, \"#f0f921\"]]}, \"colorway\": [\"#636efa\", \"#EF553B\", \"#00cc96\", \"#ab63fa\", \"#FFA15A\", \"#19d3f3\", \"#FF6692\", \"#B6E880\", \"#FF97FF\", \"#FECB52\"], \"font\": {\"color\": \"#2a3f5f\"}, \"geo\": {\"bgcolor\": \"white\", \"lakecolor\": \"white\", \"landcolor\": \"#E5ECF6\", \"showlakes\": true, \"showland\": true, \"subunitcolor\": \"white\"}, \"hoverlabel\": {\"align\": \"left\"}, \"hovermode\": \"closest\", \"mapbox\": {\"style\": \"light\"}, \"paper_bgcolor\": \"white\", \"plot_bgcolor\": \"#E5ECF6\", \"polar\": {\"angularaxis\": {\"gridcolor\": \"white\", \"linecolor\": \"white\", \"ticks\": \"\"}, \"bgcolor\": \"#E5ECF6\", \"radialaxis\": {\"gridcolor\": \"white\", \"linecolor\": \"white\", \"ticks\": \"\"}}, \"scene\": {\"xaxis\": {\"backgroundcolor\": \"#E5ECF6\", \"gridcolor\": \"white\", \"gridwidth\": 2, \"linecolor\": \"white\", \"showbackground\": true, \"ticks\": \"\", \"zerolinecolor\": \"white\"}, \"yaxis\": {\"backgroundcolor\": \"#E5ECF6\", \"gridcolor\": \"white\", \"gridwidth\": 2, \"linecolor\": \"white\", \"showbackground\": true, \"ticks\": \"\", \"zerolinecolor\": \"white\"}, \"zaxis\": {\"backgroundcolor\": \"#E5ECF6\", \"gridcolor\": \"white\", \"gridwidth\": 2, \"linecolor\": \"white\", \"showbackground\": true, \"ticks\": \"\", \"zerolinecolor\": \"white\"}}, \"shapedefaults\": {\"line\": {\"color\": \"#2a3f5f\"}}, \"ternary\": {\"aaxis\": {\"gridcolor\": \"white\", \"linecolor\": \"white\", \"ticks\": \"\"}, \"baxis\": {\"gridcolor\": \"white\", \"linecolor\": \"white\", \"ticks\": \"\"}, \"bgcolor\": \"#E5ECF6\", \"caxis\": {\"gridcolor\": \"white\", \"linecolor\": \"white\", \"ticks\": \"\"}}, \"title\": {\"x\": 0.05}, \"xaxis\": {\"automargin\": true, \"gridcolor\": \"white\", \"linecolor\": \"white\", \"ticks\": \"\", \"title\": {\"standoff\": 15}, \"zerolinecolor\": \"white\", \"zerolinewidth\": 2}, \"yaxis\": {\"automargin\": true, \"gridcolor\": \"white\", \"linecolor\": \"white\", \"ticks\": \"\", \"title\": {\"standoff\": 15}, \"zerolinecolor\": \"white\", \"zerolinewidth\": 2}}}, \"title\": {\"text\": \"Variables avec des valeurs manquantes\"}, \"yaxis\": {\"title\": {\"text\": \"Valeurs manquantes\"}}},\n",
       "                        {\"responsive\": true}\n",
       "                    ).then(function(){\n",
       "                            \n",
       "var gd = document.getElementById('5f8bea9b-00d3-4652-82d7-9f2a2a9b2344');\n",
       "var x = new MutationObserver(function (mutations, observer) {{\n",
       "        var display = window.getComputedStyle(gd).display;\n",
       "        if (!display || display === 'none') {{\n",
       "            console.log([gd, 'removed!']);\n",
       "            Plotly.purge(gd);\n",
       "            observer.disconnect();\n",
       "        }}\n",
       "}});\n",
       "\n",
       "// Listen for the removal of the full notebook cells\n",
       "var notebookContainer = gd.closest('#notebook-container');\n",
       "if (notebookContainer) {{\n",
       "    x.observe(notebookContainer, {childList: true});\n",
       "}}\n",
       "\n",
       "// Listen for the clearing of the current output cell\n",
       "var outputEl = gd.closest('.output');\n",
       "if (outputEl) {{\n",
       "    x.observe(outputEl, {childList: true});\n",
       "}}\n",
       "\n",
       "                        })\n",
       "                };\n",
       "                });\n",
       "            </script>\n",
       "        </div>"
      ]
     },
     "metadata": {},
     "output_type": "display_data"
    }
   ],
   "source": [
    "# Gestion des valeurs nulles\n",
    "\n",
    "# Fonction scatter\n",
    "def scatter_plot(x, y, title, yaxis, size, c_scale):\n",
    "    trace = go.Scatter(\n",
    "    x = x,\n",
    "    y = y,\n",
    "    mode = 'markers',\n",
    "    marker = dict(color = y, size = size, showscale = True, colorscale = c_scale))\n",
    "    layout = go.Layout(hovermode= 'closest', title = title, yaxis = dict(title = yaxis))\n",
    "    fig = go.Figure(data = [trace], layout = layout)\n",
    "    return iplot(fig)\n",
    "    \n",
    "# Afficher le nombre de valeurs manquantes par colonne\n",
    "missing_columns = len(df) - df.loc[:, np.sum(df.isnull())>0].count()\n",
    "x = missing_columns.index\n",
    "y = missing_columns\n",
    "title = 'Variables avec des valeurs manquantes'\n",
    "scatter_plot(x, y, title, 'Valeurs manquantes', 30, 'Rainbow')"
   ]
  },
  {
   "cell_type": "code",
   "execution_count": 29,
   "metadata": {},
   "outputs": [
    {
     "name": "stdout",
     "output_type": "stream",
     "text": [
      "Nombre de lignes perdues :\n",
      "979\n",
      "Proucentage de lignes perdues :\n",
      "0.04895\n",
      "Nombre de lignes avec embauche perdues :\n",
      "113\n",
      "Proucentage de lignes avec embauche perdues :\n",
      "0.04930191972076789\n"
     ]
    }
   ],
   "source": [
    "df_nona = df.dropna()\n",
    "print(\"Nombre de lignes perdues :\")\n",
    "print(df.shape[0] - df_nona.shape[0])\n",
    "print(\"Proucentage de lignes perdues :\")\n",
    "print((df.shape[0] - df_nona.shape[0])/df.shape[0])\n",
    "print(\"Nombre de lignes avec embauche perdues :\")\n",
    "print(df[df[\"embauche\"] == 1][\"embauche\"].count() - df_nona[df_nona[\"embauche\"] == 1][\"embauche\"].count())\n",
    "print(\"Proucentage de lignes avec embauche perdues :\")\n",
    "print((df[df[\"embauche\"] == 1][\"embauche\"].count() - df_nona[df_nona[\"embauche\"] == 1][\"embauche\"].count()) / df[df[\"embauche\"] == 1][\"embauche\"].count())"
   ]
  },
  {
   "cell_type": "markdown",
   "metadata": {},
   "source": [
    "Un dropna causerait une perte de 4.89% des données et 4.93% des données utiles pour l'entraînement de l'algorithme. Cela n'est pas négligeable.\n",
    "\n",
    "Nous allons plutôt remplir les valeurs nulles."
   ]
  },
  {
   "cell_type": "code",
   "execution_count": 30,
   "metadata": {},
   "outputs": [],
   "source": [
    "# Valeurs catégoriques --------------------------\n",
    "\n",
    "# Pour les cheveux, les sans réponse sont probablement les autres couleurs de cheveux\n",
    "df.cheveux.fillna(value = 'autre', inplace = True)\n",
    "\n",
    "# Pour le sexe, on va choisir M pour remplir les valeurs nulles\n",
    "df.sexe.fillna(value = 'M', inplace = True)\n",
    "\n",
    "# Pour le diplome, on va remplacer les valeurs nulles par la catégorie la plus représentée i.e. les masters\n",
    "df.diplome.fillna(value = 'master', inplace = True)\n",
    "\n",
    "# Pour la spécialité, on va remplacer les valeurs nulles par la catégorie la plus représentée i.e. géologie\n",
    "df.specialite.fillna(value = 'geologie', inplace = True)\n",
    "\n",
    "# Pour la dispo, on peut imaginer que les réponses nulles sont les réponses négatives\n",
    "df.dispo.fillna(value = 'non', inplace = True)"
   ]
  },
  {
   "cell_type": "code",
   "execution_count": 31,
   "metadata": {},
   "outputs": [],
   "source": [
    "# Valeurs numériques --------------------------\n",
    "\n",
    "# Les distributions sont toutes gaussiennes ici, on peut donc remplacer les NaN par les moyennes\n",
    "\n",
    "df.age.fillna(value = df.age.mean(), inplace = True)\n",
    "df.exp.fillna(value = df.exp.mean(), inplace = True)\n",
    "df.salaire.fillna(value = df.salaire.mean(), inplace = True)\n",
    "df.note.fillna(value = df.note.mean(), inplace = True)"
   ]
  },
  {
   "cell_type": "code",
   "execution_count": 32,
   "metadata": {},
   "outputs": [
    {
     "data": {
      "text/plain": [
       "index          0\n",
       "date          91\n",
       "cheveux        0\n",
       "age            0\n",
       "exp            0\n",
       "salaire        0\n",
       "sexe           0\n",
       "diplome        0\n",
       "specialite     0\n",
       "note           0\n",
       "dispo          0\n",
       "embauche       0\n",
       "semestre      91\n",
       "dtype: int64"
      ]
     },
     "metadata": {},
     "output_type": "display_data"
    }
   ],
   "source": [
    "display(df.isnull().sum())"
   ]
  },
  {
   "cell_type": "markdown",
   "metadata": {},
   "source": [
    "### b.2. Analyse des dépendances"
   ]
  },
  {
   "cell_type": "markdown",
   "metadata": {},
   "source": [
    "#### b.2.1 Entre la spécialité et le sexe"
   ]
  },
  {
   "cell_type": "markdown",
   "metadata": {},
   "source": [
    "La spécialité et le sexe sont toutes deux des variables catégoriques : on va utiliser un test du chi 2. Commençons par implémenter une fonction qui affiche la fréquence d'une variable suivant une autre."
   ]
  },
  {
   "cell_type": "code",
   "execution_count": 33,
   "metadata": {},
   "outputs": [],
   "source": [
    "# Fonction qui va afficher la fréquence d'embauche en fonction d'une catégorie\n",
    "def crosstab(cat, cat_target):\n",
    "    '''cat = categorical variable, cat_target = our target categorical variable.'''\n",
    "    global ax, ax1\n",
    "    fig_size = (15,4)\n",
    "    font_size = 12\n",
    "    title_size = 15\n",
    "    cat_grouped_by_cat_target = pd.crosstab(index = cat, columns = cat_target)\n",
    "    cat_grouped_by_cat_target.rename({0:'Pas embauché', 1:'Embauché'}, axis = 'columns', inplace = True)  # Renaming the columns\n",
    "    pct_cat_grouped_by_cat_target = round(pd.crosstab(index = cat, columns = cat_target, normalize = 'index')*100, 2)\n",
    "    pct_cat_grouped_by_cat_target.rename({0:'Pas embauchés(%)', 1:'Embauchés(%)'}, axis = 'columns', inplace = True)\n",
    "    \n",
    "    # Affiche la fréquence absolue d'embauche par une catégorie\n",
    "    ax =  cat_grouped_by_cat_target.plot.bar(title = 'Compte de %s' %cat_target.name + ' par %s' %cat.name, figsize = fig_size)\n",
    "    ax.title.set_size(fontsize = title_size)\n",
    "    abs_bar_labels()\n",
    "    plt.xlabel(cat.name, fontsize = font_size)\n",
    "    plt.show()\n",
    "    \n",
    "    # Affiche la fréquence relative d'embauche par une catégorie\n",
    "    ax1 = pct_cat_grouped_by_cat_target.plot.bar(title = 'Compte de %s' %cat_target.name + ' par %s' %cat.name, figsize = fig_size)\n",
    "    ax1.title.set_size(fontsize = title_size)\n",
    "    pct_bar_labels()\n",
    "    plt.xlabel(cat.name, fontsize = font_size)\n",
    "    plt.show()\n",
    "    \n",
    "# Fonction calculant le Chi 2\n",
    "def chi_square(cat, cat_target):\n",
    "    cat_grouped_by_cat_target = pd.crosstab(index = cat, columns = cat_target)\n",
    "    test_result = stats.chi2_contingency (cat_grouped_by_cat_target)\n",
    "    print('Résultat du test du Chi 2 entre %s' %cat_target.name + ' et %s' %cat.name + ':')\n",
    "    display(test_result)\n",
    "\n",
    "# Fonction calculant la p-valeur ajustée de Bonferroni-adjusted pvalue\n",
    "def bonferroni_adjusted(cat, cat_target):\n",
    "    dummies = pd.get_dummies(cat)\n",
    "    for columns in dummies:\n",
    "        crosstab = pd.crosstab(dummies[columns], cat_target)\n",
    "        print(stats.chi2_contingency(crosstab))\n",
    "    print('\\nColumns:', dummies.columns)"
   ]
  },
  {
   "cell_type": "code",
   "execution_count": 34,
   "metadata": {
    "scrolled": false
   },
   "outputs": [
    {
     "data": {
      "image/png": "[encoded data removed]",
      "text/plain": [
       "<Figure size 1080x288 with 1 Axes>"
      ]
     },
     "metadata": {
      "needs_background": "light"
     },
     "output_type": "display_data"
    },
    {
     "data": {
      "image/png": "[encoded data removed]",
      "text/plain": [
       "<Figure size 1080x288 with 1 Axes>"
      ]
     },
     "metadata": {
      "needs_background": "light"
     },
     "output_type": "display_data"
    },
    {
     "name": "stdout",
     "output_type": "stream",
     "text": [
      "Résultat du test du Chi 2 entre specialite et sexe:\n"
     ]
    },
    {
     "data": {
      "text/plain": [
       "(2687.449690280542,\n",
       " 0.0,\n",
       " 3,\n",
       " array([[ 554.3612 , 1664.28525, 1738.387  , 4053.96655],\n",
       "        [ 829.6388 , 2490.71475, 2601.613  , 6067.03345]]))"
      ]
     },
     "metadata": {},
     "output_type": "display_data"
    }
   ],
   "source": [
    "crosstab(df.sexe, df.specialite)\n",
    "chi_square(df.sexe, df.specialite)"
   ]
  },
  {
   "cell_type": "markdown",
   "metadata": {},
   "source": [
    "On remarque une p-valeur égale à 0.0. Cela implique qu'elle est si faible que le logiciel a choisi d'arrondir le résultat. La p-valeur étant inférieure à 0.001, les deux variables sont hautement correlées.\n",
    "\n",
    "Comme le montre le graphe, si l'on est un homme, on a 64.03% de chances d'être un géologue contre 30.51% pour une femme. A contrario, on a moins de 20% de chances d'être un détective ou un foreur contre au moins 24% pour une femme."
   ]
  },
  {
   "cell_type": "markdown",
   "metadata": {},
   "source": [
    "#### b.2.2 Entre la couleur de cheveux et le salaire demandé"
   ]
  },
  {
   "cell_type": "markdown",
   "metadata": {},
   "source": [
    "La couleur de cheveux est une variable catégorique alors que le salaire demandé est une variable numérique, la fonction écrite ne pourra pas fonctionner ici.\n",
    "\n",
    "On va commencer par représenter la variable numérique pour chaque valeur de la variable catégorique avec un boxplot puis on procédera à une analyse en utilisant l'ANOVA."
   ]
  },
  {
   "cell_type": "code",
   "execution_count": 35,
   "metadata": {},
   "outputs": [],
   "source": [
    "# Fonction affichant les boxplots\n",
    "def boxplot(cat,num):\n",
    "    '''cat = categorical variable, and num = numerical variable.'''\n",
    "    fig_size = (15,4)\n",
    "    font_size = 12\n",
    "    title_size = 15\n",
    "    ax = sns.boxplot(x = cat, y = num)\n",
    "\n",
    "    plt.title('Association entre %s' %cat.name + ' et %s' %num.name, fontsize = title_size)\n",
    "    plt.xlabel('%s' %cat.name, fontsize = font_size)\n",
    "    plt.ylabel('%s' %num.name, fontsize = font_size)\n",
    "    plt.xticks(fontsize = font_size)\n",
    "    plt.yticks(fontsize = font_size)\n",
    "    plt.show()\n",
    "\n",
    "# Fonction pour représenter la moyenne pour chaque valeur de la variable catégorique\n",
    "def nume_grouped_by_cat(cat, num):\n",
    "    global ax\n",
    "    font_size = 12\n",
    "    title_size = 15\n",
    "    grouped_by_cat = num.groupby(cat).mean().sort_values( ascending = False)\n",
    "    grouped_by_cat = round(grouped_by_cat, 2)\n",
    "    ax = grouped_by_cat.plot.bar(figsize = (18,5)) \n",
    "    abs_bar_labels()\n",
    "    plt.title('Moyenne de %s ' %num.name + 'par %s' %cat.name, fontsize = title_size)\n",
    "    plt.ylabel('Moyenne de %s ' %num.name, fontsize = font_size)\n",
    "    plt.xlabel('%s' %cat.name, fontsize = font_size)\n",
    "    plt.xticks(fontsize = font_size)\n",
    "    plt.yticks(fontsize = font_size)\n",
    "    plt.show()\n",
    "\n",
    "# Fonction pour représenter la distribution pour chaque valeur de la variable catégorique\n",
    "def num_hist_by_cat(cat, num):\n",
    "    font_size = 12\n",
    "    title_size = 15\n",
    "    plt.figure(figsize = (18,7))\n",
    "    num[cat == 'blond'].hist(label = 'blond', grid = False)\n",
    "    num[cat == 'chatain'].hist(label = 'chatain', grid = False)\n",
    "    num[cat == 'brun'].hist(label = 'brun', grid = False)\n",
    "    num[cat == 'roux'].hist(label = 'roux', grid = False)\n",
    "    num[cat == 'autre'].hist(label = 'autre', grid = False)\n",
    "    plt.yticks([])\n",
    "    plt.xticks(fontsize = font_size)\n",
    "    plt.xlabel('%s' %num.name, fontsize = font_size)\n",
    "    plt.title('Distribution de %s ' %num.name + 'par %s' %cat.name, fontsize = title_size)\n",
    "    plt.legend()\n",
    "    plt.show()\n",
    "   \n",
    "# Fonction pour calculer l'ANOVA, qui renvoie la valeur de la F-satistique et la p-valeur\n",
    "def anova(cat, num):\n",
    "    from scipy import stats\n",
    "    grp_num_by_cat_1 = num[cat == 'blond']\n",
    "    grp_num_by_cat_1 = num[cat == 'chatain']\n",
    "    grp_num_by_cat_1 = num[cat == 'brun']\n",
    "    grp_num_by_cat_1 = num[cat == 'roux']\n",
    "    grp_num_by_cat_0 = num[cat == 'autre']\n",
    "    f_val, p_val = stats.f_oneway(grp_num_by_cat_1, grp_num_by_cat_0)\n",
    "    print('Anova entre ' + num.name, ' et '+ cat.name, ' : ' , f_val, p_val)  "
   ]
  },
  {
   "cell_type": "code",
   "execution_count": 36,
   "metadata": {},
   "outputs": [
    {
     "data": {
      "image/png": "[encoded data removed]",
      "text/plain": [
       "<Figure size 432x288 with 1 Axes>"
      ]
     },
     "metadata": {
      "needs_background": "light"
     },
     "output_type": "display_data"
    },
    {
     "data": {
      "image/png": "[encoded data removed]",
      "text/plain": [
       "<Figure size 1296x360 with 1 Axes>"
      ]
     },
     "metadata": {
      "needs_background": "light"
     },
     "output_type": "display_data"
    },
    {
     "data": {
      "image/png": "[encoded data removed]",
      "text/plain": [
       "<Figure size 1296x504 with 1 Axes>"
      ]
     },
     "metadata": {
      "needs_background": "light"
     },
     "output_type": "display_data"
    },
    {
     "name": "stdout",
     "output_type": "stream",
     "text": [
      "Anova entre salaire  et cheveux  :  1.4340397253546442 0.23124432479010631\n"
     ]
    }
   ],
   "source": [
    "boxplot(df.cheveux, df.salaire)\n",
    "nume_grouped_by_cat(df.cheveux, df.salaire)\n",
    "num_hist_by_cat(df.cheveux, df.salaire)\n",
    "anova(df.cheveux, df.salaire)"
   ]
  },
  {
   "cell_type": "markdown",
   "metadata": {},
   "source": [
    "La distribution de salaire entre les différentes couleurs de cheveux semble uniforme : la couleur de cheveux ferait un mauvais prédicteur de salaire.\n",
    "\n",
    "La p-valeur est de 0.23, ce qui est largement supérieur à 0.05 : Les deux variables ne sont pas statistiquement dépendantes."
   ]
  },
  {
   "cell_type": "markdown",
   "metadata": {},
   "source": [
    "#### b.2.2 Entre le nombre d'années d'expérience et la note"
   ]
  },
  {
   "cell_type": "markdown",
   "metadata": {},
   "source": [
    "Ici, les deux variables sont numériques : Il suffit de regarder la covariance et le coefficient de correlation de Pearson. "
   ]
  },
  {
   "cell_type": "code",
   "execution_count": 37,
   "metadata": {},
   "outputs": [
    {
     "name": "stdout",
     "output_type": "stream",
     "text": [
      "[[  9.02925134  -0.62118961]\n",
      " [ -0.62118961 290.60467434]]\n"
     ]
    }
   ],
   "source": [
    "covariance = np.cov(df.exp, df.note)\n",
    "print(covariance)"
   ]
  },
  {
   "cell_type": "markdown",
   "metadata": {},
   "source": [
    "On remarque que les diagonales sont négatives : il semblerait que les deux variables soient donc négativement correlées. Si l'expérience augmente, la note diminue et vice-versa. \n",
    "\n",
    "Allons un peu plus loin avec le coefficient de Pearson :"
   ]
  },
  {
   "cell_type": "code",
   "execution_count": 38,
   "metadata": {},
   "outputs": [
    {
     "name": "stdout",
     "output_type": "stream",
     "text": [
      "Correlation de pearson: -0.012\n"
     ]
    }
   ],
   "source": [
    "from scipy.stats import pearsonr\n",
    "corr, _ = pearsonr(df.exp, df.note)\n",
    "print('Correlation de pearson: %.3f' % corr)"
   ]
  },
  {
   "cell_type": "markdown",
   "metadata": {},
   "source": [
    "Bien que négative, la correlation entre les deux variables semble faible."
   ]
  },
  {
   "cell_type": "markdown",
   "metadata": {},
   "source": [
    "## 2. Machine Learning"
   ]
  },
  {
   "cell_type": "markdown",
   "metadata": {},
   "source": [
    "## 1. Construction d'un modèle"
   ]
  },
  {
   "cell_type": "markdown",
   "metadata": {},
   "source": [
    "### a. Processing de la donnée pour le modèle"
   ]
  },
  {
   "cell_type": "markdown",
   "metadata": {},
   "source": [
    "A ce niveau, nous allons commencer par éliminer les colonnes qui n'ont aucun impact sur l'embauche : l'index, pour des raisons évidentes, et la date, qui est constante et semble plutôt montrer qu'OrFée embauche sur candidatures libres tout au long de l'année."
   ]
  },
  {
   "cell_type": "code",
   "execution_count": 39,
   "metadata": {},
   "outputs": [],
   "source": [
    "df.drop(columns = ['index', 'date', 'semestre'], inplace = True, axis = 1)"
   ]
  },
  {
   "cell_type": "markdown",
   "metadata": {},
   "source": [
    "Nous allons aussi corriger le type des données : passer les objects en category"
   ]
  },
  {
   "cell_type": "code",
   "execution_count": 40,
   "metadata": {},
   "outputs": [
    {
     "data": {
      "text/plain": [
       "cheveux        object\n",
       "age           float64\n",
       "exp           float64\n",
       "salaire       float64\n",
       "sexe           object\n",
       "diplome        object\n",
       "specialite     object\n",
       "note          float64\n",
       "dispo          object\n",
       "embauche        int64\n",
       "dtype: object"
      ]
     },
     "execution_count": 40,
     "metadata": {},
     "output_type": "execute_result"
    }
   ],
   "source": [
    "df.dtypes"
   ]
  },
  {
   "cell_type": "code",
   "execution_count": 41,
   "metadata": {},
   "outputs": [],
   "source": [
    "df.loc[:, ['cheveux', 'sexe', 'diplome', 'specialite', 'dispo']] = df.loc[:, ['cheveux', 'sexe', 'diplome', 'specialite', 'dispo']].astype('category')"
   ]
  },
  {
   "cell_type": "code",
   "execution_count": 42,
   "metadata": {},
   "outputs": [
    {
     "data": {
      "text/plain": [
       "cheveux       category\n",
       "age            float64\n",
       "exp            float64\n",
       "salaire        float64\n",
       "sexe          category\n",
       "diplome       category\n",
       "specialite    category\n",
       "note           float64\n",
       "dispo         category\n",
       "embauche         int64\n",
       "dtype: object"
      ]
     },
     "execution_count": 42,
     "metadata": {},
     "output_type": "execute_result"
    }
   ],
   "source": [
    "df.dtypes"
   ]
  },
  {
   "cell_type": "markdown",
   "metadata": {},
   "source": [
    "On va maintenant transformer les données catégories en dummies à l'aide d'un hot encoding"
   ]
  },
  {
   "cell_type": "code",
   "execution_count": 43,
   "metadata": {},
   "outputs": [
    {
     "data": {
      "text/html": [
       "<div>\n",
       "<style scoped>\n",
       "    .dataframe tbody tr th:only-of-type {\n",
       "        vertical-align: middle;\n",
       "    }\n",
       "\n",
       "    .dataframe tbody tr th {\n",
       "        vertical-align: top;\n",
       "    }\n",
       "\n",
       "    .dataframe thead th {\n",
       "        text-align: right;\n",
       "    }\n",
       "</style>\n",
       "<table border=\"1\" class=\"dataframe\">\n",
       "  <thead>\n",
       "    <tr style=\"text-align: right;\">\n",
       "      <th></th>\n",
       "      <th>age</th>\n",
       "      <th>exp</th>\n",
       "      <th>salaire</th>\n",
       "      <th>note</th>\n",
       "      <th>embauche</th>\n",
       "      <th>cheveux_autre</th>\n",
       "      <th>cheveux_blond</th>\n",
       "      <th>cheveux_brun</th>\n",
       "      <th>cheveux_chatain</th>\n",
       "      <th>cheveux_roux</th>\n",
       "      <th>...</th>\n",
       "      <th>diplome_bac</th>\n",
       "      <th>diplome_doctorat</th>\n",
       "      <th>diplome_licence</th>\n",
       "      <th>diplome_master</th>\n",
       "      <th>specialite_archeologie</th>\n",
       "      <th>specialite_detective</th>\n",
       "      <th>specialite_forage</th>\n",
       "      <th>specialite_geologie</th>\n",
       "      <th>dispo_non</th>\n",
       "      <th>dispo_oui</th>\n",
       "    </tr>\n",
       "  </thead>\n",
       "  <tbody>\n",
       "    <tr>\n",
       "      <th>0</th>\n",
       "      <td>25.000000</td>\n",
       "      <td>9.0</td>\n",
       "      <td>26803.0</td>\n",
       "      <td>97.08</td>\n",
       "      <td>0</td>\n",
       "      <td>0</td>\n",
       "      <td>0</td>\n",
       "      <td>0</td>\n",
       "      <td>0</td>\n",
       "      <td>1</td>\n",
       "      <td>...</td>\n",
       "      <td>0</td>\n",
       "      <td>0</td>\n",
       "      <td>1</td>\n",
       "      <td>0</td>\n",
       "      <td>0</td>\n",
       "      <td>0</td>\n",
       "      <td>0</td>\n",
       "      <td>1</td>\n",
       "      <td>1</td>\n",
       "      <td>0</td>\n",
       "    </tr>\n",
       "    <tr>\n",
       "      <th>1</th>\n",
       "      <td>35.000000</td>\n",
       "      <td>13.0</td>\n",
       "      <td>38166.0</td>\n",
       "      <td>63.86</td>\n",
       "      <td>0</td>\n",
       "      <td>0</td>\n",
       "      <td>1</td>\n",
       "      <td>0</td>\n",
       "      <td>0</td>\n",
       "      <td>0</td>\n",
       "      <td>...</td>\n",
       "      <td>0</td>\n",
       "      <td>0</td>\n",
       "      <td>1</td>\n",
       "      <td>0</td>\n",
       "      <td>0</td>\n",
       "      <td>0</td>\n",
       "      <td>1</td>\n",
       "      <td>0</td>\n",
       "      <td>1</td>\n",
       "      <td>0</td>\n",
       "    </tr>\n",
       "    <tr>\n",
       "      <th>2</th>\n",
       "      <td>29.000000</td>\n",
       "      <td>13.0</td>\n",
       "      <td>35207.0</td>\n",
       "      <td>78.50</td>\n",
       "      <td>0</td>\n",
       "      <td>0</td>\n",
       "      <td>1</td>\n",
       "      <td>0</td>\n",
       "      <td>0</td>\n",
       "      <td>0</td>\n",
       "      <td>...</td>\n",
       "      <td>0</td>\n",
       "      <td>0</td>\n",
       "      <td>1</td>\n",
       "      <td>0</td>\n",
       "      <td>0</td>\n",
       "      <td>0</td>\n",
       "      <td>0</td>\n",
       "      <td>1</td>\n",
       "      <td>1</td>\n",
       "      <td>0</td>\n",
       "    </tr>\n",
       "    <tr>\n",
       "      <th>3</th>\n",
       "      <td>35.004521</td>\n",
       "      <td>12.0</td>\n",
       "      <td>32442.0</td>\n",
       "      <td>45.09</td>\n",
       "      <td>0</td>\n",
       "      <td>0</td>\n",
       "      <td>0</td>\n",
       "      <td>1</td>\n",
       "      <td>0</td>\n",
       "      <td>0</td>\n",
       "      <td>...</td>\n",
       "      <td>0</td>\n",
       "      <td>0</td>\n",
       "      <td>1</td>\n",
       "      <td>0</td>\n",
       "      <td>0</td>\n",
       "      <td>0</td>\n",
       "      <td>0</td>\n",
       "      <td>1</td>\n",
       "      <td>1</td>\n",
       "      <td>0</td>\n",
       "    </tr>\n",
       "    <tr>\n",
       "      <th>4</th>\n",
       "      <td>35.000000</td>\n",
       "      <td>6.0</td>\n",
       "      <td>28533.0</td>\n",
       "      <td>81.91</td>\n",
       "      <td>0</td>\n",
       "      <td>0</td>\n",
       "      <td>0</td>\n",
       "      <td>0</td>\n",
       "      <td>0</td>\n",
       "      <td>1</td>\n",
       "      <td>...</td>\n",
       "      <td>0</td>\n",
       "      <td>0</td>\n",
       "      <td>1</td>\n",
       "      <td>0</td>\n",
       "      <td>0</td>\n",
       "      <td>1</td>\n",
       "      <td>0</td>\n",
       "      <td>0</td>\n",
       "      <td>1</td>\n",
       "      <td>0</td>\n",
       "    </tr>\n",
       "  </tbody>\n",
       "</table>\n",
       "<p>5 rows × 22 columns</p>\n",
       "</div>"
      ],
      "text/plain": [
       "         age   exp  salaire   note  embauche  cheveux_autre  cheveux_blond  \\\n",
       "0  25.000000   9.0  26803.0  97.08         0              0              0   \n",
       "1  35.000000  13.0  38166.0  63.86         0              0              1   \n",
       "2  29.000000  13.0  35207.0  78.50         0              0              1   \n",
       "3  35.004521  12.0  32442.0  45.09         0              0              0   \n",
       "4  35.000000   6.0  28533.0  81.91         0              0              0   \n",
       "\n",
       "   cheveux_brun  cheveux_chatain  cheveux_roux  ...  diplome_bac  \\\n",
       "0             0                0             1  ...            0   \n",
       "1             0                0             0  ...            0   \n",
       "2             0                0             0  ...            0   \n",
       "3             1                0             0  ...            0   \n",
       "4             0                0             1  ...            0   \n",
       "\n",
       "   diplome_doctorat  diplome_licence  diplome_master  specialite_archeologie  \\\n",
       "0                 0                1               0                       0   \n",
       "1                 0                1               0                       0   \n",
       "2                 0                1               0                       0   \n",
       "3                 0                1               0                       0   \n",
       "4                 0                1               0                       0   \n",
       "\n",
       "   specialite_detective  specialite_forage  specialite_geologie  dispo_non  \\\n",
       "0                     0                  0                    1          1   \n",
       "1                     0                  1                    0          1   \n",
       "2                     0                  0                    1          1   \n",
       "3                     0                  0                    1          1   \n",
       "4                     1                  0                    0          1   \n",
       "\n",
       "   dispo_oui  \n",
       "0          0  \n",
       "1          0  \n",
       "2          0  \n",
       "3          0  \n",
       "4          0  \n",
       "\n",
       "[5 rows x 22 columns]"
      ]
     },
     "execution_count": 43,
     "metadata": {},
     "output_type": "execute_result"
    }
   ],
   "source": [
    "df = pd.get_dummies(df)\n",
    "df.head()"
   ]
  },
  {
   "cell_type": "markdown",
   "metadata": {},
   "source": [
    "### b. Choix et entraînement du modèle"
   ]
  },
  {
   "cell_type": "markdown",
   "metadata": {},
   "source": [
    "Nous sommes ici dans un contexte de supervised learning pour faire de la classification binaire : notre candidat sera-t-il embauché ou non ?"
   ]
  },
  {
   "cell_type": "code",
   "execution_count": 44,
   "metadata": {},
   "outputs": [
    {
     "name": "stdout",
     "output_type": "stream",
     "text": [
      "Input Matrix:   (16000, 21)\n",
      "Output Vector:  (16000,)\n",
      "Test Data:      (4000, 21)\n"
     ]
    }
   ],
   "source": [
    "# On initialise un seed pour reproduire les résultats\n",
    "seed = 50\n",
    "\n",
    "# On va arranger le dataframe pour la suite\n",
    "cols = df.columns.tolist()\n",
    "cols.insert(0, cols.pop(cols.index('embauche')))\n",
    "df = df.reindex(columns= cols)\n",
    "\n",
    "# On divise notre set en un training set et un test set\n",
    "X = df.iloc[:, 1:22].values\n",
    "y = df.iloc[:, 0].values\n",
    "\n",
    "# On split le set en training et test sets\n",
    "# Nous avons 20k données, un split 20/80 semble être un bon compromis\n",
    "from sklearn.model_selection import train_test_split\n",
    "X_train, X_test, y_train, y_test = train_test_split(X, y, test_size = 0.20, random_state = seed)\n",
    "\n",
    "# On fait du feature scaling afin de donner le même poids à chaque variable\n",
    "from sklearn.preprocessing import StandardScaler\n",
    "sc = StandardScaler()\n",
    "X_train = sc.fit_transform(X_train)\n",
    "X_test = sc.transform(X_test)\n",
    "\n",
    "print('Input Matrix:  ', X_train.shape)\n",
    "print('Output Vector: ', y_train.shape)\n",
    "print('Test Data:     ', X_test.shape)"
   ]
  },
  {
   "cell_type": "code",
   "execution_count": 45,
   "metadata": {},
   "outputs": [],
   "source": [
    "# On va maintenant tester plusieurs modèles\n",
    "# Nous sommes dans un cas où la base de données est relativement petite (20k lignes, et 15k de training) \n",
    "# avec seulement 11% d'embauches, il faudra donc un modèle qui n'a pas besoin de beaucoup de données pour\n",
    "# bien généraliser. On peut s'attendre à ce que les modèles arborescents et boostés donnent les meilleurs scores.\n",
    "\n",
    "# Régression Logistique\n",
    "from sklearn.linear_model import LogisticRegression\n",
    "lr = LogisticRegression()\n",
    "\n",
    "# Decision Tree\n",
    "from sklearn.tree import DecisionTreeClassifier\n",
    "dt = DecisionTreeClassifier(random_state = seed)\n",
    "\n",
    "# Random Forest\n",
    "from sklearn.ensemble import RandomForestClassifier\n",
    "rf = RandomForestClassifier(random_state = seed, n_estimators = 100)\n",
    "\n",
    "# KNN\n",
    "from sklearn.neighbors import KNeighborsClassifier\n",
    "knn = KNeighborsClassifier()\n",
    "\n",
    "# Gradient Boosting Classifier\n",
    "from sklearn.ensemble import GradientBoostingClassifier\n",
    "gbc = GradientBoostingClassifier(random_state = seed)"
   ]
  },
  {
   "cell_type": "code",
   "execution_count": 46,
   "metadata": {},
   "outputs": [],
   "source": [
    "# On va regarder la performance d'entrainement de chaque modèle, cette fonction va renvoyer l'accuracy de\n",
    "# chaque modèle par défaut i.e. nb de prédictions correctes sur nb de prédictions total\n",
    "def train_accuracy(model):\n",
    "    model.fit(X_train, y_train)\n",
    "    train_accuracy = model.score(X_train, y_train)\n",
    "    train_accuracy = np.round(train_accuracy*100, 2)\n",
    "    return train_accuracy"
   ]
  },
  {
   "cell_type": "code",
   "execution_count": 47,
   "metadata": {},
   "outputs": [
    {
     "name": "stderr",
     "output_type": "stream",
     "text": [
      "C:\\Users\\Jeremy\\Anaconda3\\lib\\site-packages\\sklearn\\linear_model\\logistic.py:432: FutureWarning:\n",
      "\n",
      "Default solver will be changed to 'lbfgs' in 0.22. Specify a solver to silence this warning.\n",
      "\n"
     ]
    }
   ],
   "source": [
    "# On calcule le score pour chaque modèle\n",
    "train_accuracy = pd.DataFrame({'Train_accuracy(%)':[train_accuracy(lr), train_accuracy(rf), train_accuracy(knn), train_accuracy(dt), train_accuracy(gbc)]})\n",
    "train_accuracy.index = ['LR', 'RF', 'KNN', 'DT', 'GBC']\n",
    "sorted_train_accuracy = train_accuracy.sort_values(by = 'Train_accuracy(%)', ascending = False)\n",
    "suppress_warnings()"
   ]
  },
  {
   "cell_type": "code",
   "execution_count": 48,
   "metadata": {},
   "outputs": [
    {
     "data": {
      "text/html": [
       "<div>\n",
       "<style scoped>\n",
       "    .dataframe tbody tr th:only-of-type {\n",
       "        vertical-align: middle;\n",
       "    }\n",
       "\n",
       "    .dataframe tbody tr th {\n",
       "        vertical-align: top;\n",
       "    }\n",
       "\n",
       "    .dataframe thead th {\n",
       "        text-align: right;\n",
       "    }\n",
       "</style>\n",
       "<table border=\"1\" class=\"dataframe\">\n",
       "  <thead>\n",
       "    <tr style=\"text-align: right;\">\n",
       "      <th></th>\n",
       "      <th>Train_accuracy(%)</th>\n",
       "    </tr>\n",
       "  </thead>\n",
       "  <tbody>\n",
       "    <tr>\n",
       "      <th>LR</th>\n",
       "      <td>88.48</td>\n",
       "    </tr>\n",
       "    <tr>\n",
       "      <th>RF</th>\n",
       "      <td>100.00</td>\n",
       "    </tr>\n",
       "    <tr>\n",
       "      <th>KNN</th>\n",
       "      <td>93.01</td>\n",
       "    </tr>\n",
       "    <tr>\n",
       "      <th>DT</th>\n",
       "      <td>100.00</td>\n",
       "    </tr>\n",
       "    <tr>\n",
       "      <th>GBC</th>\n",
       "      <td>91.14</td>\n",
       "    </tr>\n",
       "  </tbody>\n",
       "</table>\n",
       "</div>"
      ],
      "text/plain": [
       "     Train_accuracy(%)\n",
       "LR               88.48\n",
       "RF              100.00\n",
       "KNN              93.01\n",
       "DT              100.00\n",
       "GBC              91.14"
      ]
     },
     "execution_count": 48,
     "metadata": {},
     "output_type": "execute_result"
    }
   ],
   "source": [
    "train_accuracy"
   ]
  },
  {
   "cell_type": "markdown",
   "metadata": {},
   "source": [
    "On voit que, comme attendu, les meilleures accuracies sont données par les modèles arborescents. Cependant, un score de 100 est choquant : il est probable qu'il y ait de l'overfitting.\n",
    "\n",
    "De manière générale, on ne peut pas encore dire à ce stade si le modèle est capable de généraliser aux données nouvelles à partir de l'accuracy, étant donné que le modèle est testé sur le training set lui-même i.e. des données qu'il \"connait\" déjà.\n",
    "\n",
    "Ce que l'on peut faire pour obtenir une accuracy plus représentative, c'est une cross-validation."
   ]
  },
  {
   "cell_type": "code",
   "execution_count": 49,
   "metadata": {},
   "outputs": [],
   "source": [
    "# Fonction qui renvoie le score moyen pour une 10-fold cross-validation\n",
    "def x_val_score(model):\n",
    "    from sklearn.model_selection import cross_val_score\n",
    "    x_val_score = cross_val_score(model, X_train, y_train, cv = 10, scoring = 'accuracy').mean()\n",
    "    x_val_score = np.round(x_val_score*100, 2)\n",
    "    return x_val_score\n",
    "\n",
    "x_val_score = pd.DataFrame({'x_val_score(%)':[x_val_score(lr), x_val_score(rf), x_val_score(knn), x_val_score(dt), x_val_score(gbc)]})\n",
    "x_val_score.index = ['LR', 'RF', 'KNN', 'DT', 'GBC']\n",
    "sorted_x_val_score = x_val_score.sort_values(by = 'x_val_score(%)', ascending = False)\n",
    "x_val_score\n",
    "suppress_warnings()"
   ]
  },
  {
   "cell_type": "markdown",
   "metadata": {},
   "source": [
    "On voit que les modèles arborescents ne font plus d'overfitting massif. Les modèles qui ont un accuracy de cross-validation le plus haut sont RandomForest, KNN et Logistic Regression.\n",
    "\n",
    "On va maintenant utiliser le grid search pour tuner les hyperparamètres, dans l'espoir de peut-être augmenter les accuracies de chaque clasifieur, et augmenter la performance globale du modèle."
   ]
  },
  {
   "cell_type": "code",
   "execution_count": 50,
   "metadata": {},
   "outputs": [],
   "source": [
    "from sklearn.model_selection import GridSearchCV\n",
    "\n",
    "def grid_search(classifier, parameters):\n",
    "    grid_search = GridSearchCV(estimator = classifier,\n",
    "                               param_grid = parameters,\n",
    "                               scoring = 'accuracy',\n",
    "                               cv = 10,\n",
    "                               n_jobs = -1)\n",
    "    grid_search = grid_search.fit(X_train, y_train)\n",
    "    best_accuracy = np.round(grid_search.best_score_*100,2)\n",
    "    best_parameters = grid_search.best_params_\n",
    "    return best_parameters, best_accuracy"
   ]
  },
  {
   "cell_type": "code",
   "execution_count": 51,
   "metadata": {},
   "outputs": [],
   "source": [
    "# On va définir les hyperparamètres usuels à tuner de chaque algorithme pour le gridsearch\n",
    "\n",
    "# Régression logistique\n",
    "lr_params = {'penalty':['l1', 'l2'],\n",
    "             'C': np.logspace(0, 4, 10)}\n",
    "\n",
    "# Arbre de décision\n",
    "dt_params = {'max_features': ['auto', 'sqrt', 'log2'],\n",
    "             'min_samples_split': [2, 3, 4, 5, 6, 7, 8, 9, 10, 11, 12, 13, 14, 15], \n",
    "             'min_samples_leaf':[1, 2, 3, 4, 5, 6, 7, 8, 9, 10, 11],\n",
    "             'random_state':[seed]}\n",
    "\n",
    "# Random Forest\n",
    "rf_params = {'criterion':['gini','entropy'],\n",
    "             'n_estimators':[10, 15, 20, 25, 30],\n",
    "             'min_samples_leaf':[1, 2, 3],\n",
    "             'min_samples_split':[3, 4, 5, 6, 7], \n",
    "             'max_features':['sqrt', 'auto', 'log2'],\n",
    "             'random_state':[44]}\n",
    "\n",
    "# KNN\n",
    "knn_params = {'n_neighbors':[3, 4, 5, 6, 7, 8],\n",
    "              'leaf_size':[1, 2, 3, 5],\n",
    "              'weights':['uniform', 'distance'],\n",
    "              'algorithm':['auto', 'ball_tree','kd_tree','brute']}\n",
    "\n",
    "# GBC\n",
    "gbc_params = {'learning_rate': [0.01, 0.02, 0.05, 0.01],\n",
    "              'max_depth': [4, 6, 8],\n",
    "              'max_features': [1.0, 0.3, 0.1], \n",
    "              'min_samples_split': [ 2, 3, 4],\n",
    "              'random_state':[seed]}"
   ]
  },
  {
   "cell_type": "code",
   "execution_count": 52,
   "metadata": {},
   "outputs": [],
   "source": [
    "# ATTENTION cette étape peut prendre jusqu'à 20 minutes\n",
    "\n",
    "# LR\n",
    "lr_best_params, lr_best_score = grid_search(lr, lr_params)\n",
    "\n",
    "# DT\n",
    "dt_best_params, dt_best_score = grid_search(dt, dt_params)\n",
    "\n",
    "# RF\n",
    "rf_best_params, rf_best_score = grid_search(rf, rf_params)\n",
    "\n",
    "# KNN\n",
    "knn_best_params, knn_best_score = grid_search(knn, knn_params)\n",
    "\n",
    "# GBC\n",
    "gbc_best_params, gbc_best_score = grid_search(gbc, gbc_params)\n",
    "\n",
    "suppress_warnings()"
   ]
  },
  {
   "cell_type": "code",
   "execution_count": 53,
   "metadata": {},
   "outputs": [
    {
     "data": {
      "text/html": [
       "<div>\n",
       "<style scoped>\n",
       "    .dataframe tbody tr th:only-of-type {\n",
       "        vertical-align: middle;\n",
       "    }\n",
       "\n",
       "    .dataframe tbody tr th {\n",
       "        vertical-align: top;\n",
       "    }\n",
       "\n",
       "    .dataframe thead th {\n",
       "        text-align: right;\n",
       "    }\n",
       "</style>\n",
       "<table border=\"1\" class=\"dataframe\">\n",
       "  <thead>\n",
       "    <tr style=\"text-align: right;\">\n",
       "      <th></th>\n",
       "      <th>Tunned_accuracy(%)</th>\n",
       "    </tr>\n",
       "  </thead>\n",
       "  <tbody>\n",
       "    <tr>\n",
       "      <th>GBC</th>\n",
       "      <td>92.28</td>\n",
       "    </tr>\n",
       "    <tr>\n",
       "      <th>RF</th>\n",
       "      <td>92.24</td>\n",
       "    </tr>\n",
       "    <tr>\n",
       "      <th>KNN</th>\n",
       "      <td>91.41</td>\n",
       "    </tr>\n",
       "    <tr>\n",
       "      <th>DT</th>\n",
       "      <td>90.44</td>\n",
       "    </tr>\n",
       "    <tr>\n",
       "      <th>LR</th>\n",
       "      <td>88.48</td>\n",
       "    </tr>\n",
       "  </tbody>\n",
       "</table>\n",
       "</div>"
      ],
      "text/plain": [
       "     Tunned_accuracy(%)\n",
       "GBC               92.28\n",
       "RF                92.24\n",
       "KNN               91.41\n",
       "DT                90.44\n",
       "LR                88.48"
      ]
     },
     "execution_count": 53,
     "metadata": {},
     "output_type": "execute_result"
    }
   ],
   "source": [
    "tunned_scores = pd.DataFrame({'Tunned_accuracy(%)': [lr_best_score, dt_best_score, rf_best_score, knn_best_score, gbc_best_score]})\n",
    "tunned_scores.index = ['LR', 'DT', 'RF', 'KNN', 'GBC']\n",
    "sorted_tunned_scores = tunned_scores.sort_values(by = 'Tunned_accuracy(%)', ascending = False)\n",
    "sorted_tunned_scores"
   ]
  },
  {
   "cell_type": "markdown",
   "metadata": {},
   "source": [
    "On prendra pour la suite les deux modèles qui ont l'accuracy la plus haute après le tuning des hyperparamètres, c'est à dire le Gradient Boosting Classifier et le Random Forest."
   ]
  },
  {
   "cell_type": "markdown",
   "metadata": {},
   "source": [
    "On va maintenant réentrainer les modèles avec les paramètres optimaux. On devrait obtenir des scores similaires au tunned accuracy avec une cross-validation."
   ]
  },
  {
   "cell_type": "code",
   "execution_count": 54,
   "metadata": {},
   "outputs": [
    {
     "name": "stdout",
     "output_type": "stream",
     "text": [
      "Accuracy du GBC : 92.28129444337674\n",
      "Accuracy du RF : 92.2438061596899\n"
     ]
    }
   ],
   "source": [
    "rf  = RandomForestClassifier(**rf_best_params)\n",
    "gbc = GradientBoostingClassifier(**gbc_best_params)\n",
    "\n",
    "models = {'GBC':gbc, 'RF':rf}\n",
    "score = []\n",
    "for x, (keys, items) in enumerate(models.items()):\n",
    "    from sklearn.model_selection import cross_val_score\n",
    "    items.fit(X_train, y_train)\n",
    "    scores = cross_val_score(items, X_train, y_train, cv = 10, scoring = 'accuracy')*100\n",
    "    score.append(scores.mean())\n",
    "    print('Accuracy du '+ str(keys) + ' : ' + str(scores.mean()))"
   ]
  },
  {
   "cell_type": "markdown",
   "metadata": {},
   "source": [
    "Observation des prédictions à l'aide de la matrice de confusion :"
   ]
  },
  {
   "cell_type": "code",
   "execution_count": 55,
   "metadata": {},
   "outputs": [],
   "source": [
    "def x_val_predict(model):\n",
    "    from sklearn.model_selection import cross_val_predict\n",
    "    predicted = cross_val_predict(model, X_train, y_train, cv = 10)\n",
    "    return predicted\n",
    "\n",
    "def confusion_matrix(model):\n",
    "    predicted = x_val_predict(model)\n",
    "    confusion_matrix = pd.crosstab(y_train, predicted, rownames = ['Vraie valeur'], colnames = ['Prédiction'], margins = True)\n",
    "    return display(confusion_matrix)"
   ]
  },
  {
   "cell_type": "code",
   "execution_count": 56,
   "metadata": {},
   "outputs": [
    {
     "name": "stdout",
     "output_type": "stream",
     "text": [
      "Gradient Boosting Classifier :\n"
     ]
    },
    {
     "data": {
      "text/html": [
       "<div>\n",
       "<style scoped>\n",
       "    .dataframe tbody tr th:only-of-type {\n",
       "        vertical-align: middle;\n",
       "    }\n",
       "\n",
       "    .dataframe tbody tr th {\n",
       "        vertical-align: top;\n",
       "    }\n",
       "\n",
       "    .dataframe thead th {\n",
       "        text-align: right;\n",
       "    }\n",
       "</style>\n",
       "<table border=\"1\" class=\"dataframe\">\n",
       "  <thead>\n",
       "    <tr style=\"text-align: right;\">\n",
       "      <th>Prédiction</th>\n",
       "      <th>0</th>\n",
       "      <th>1</th>\n",
       "      <th>All</th>\n",
       "    </tr>\n",
       "    <tr>\n",
       "      <th>Vraie valeur</th>\n",
       "      <th></th>\n",
       "      <th></th>\n",
       "      <th></th>\n",
       "    </tr>\n",
       "  </thead>\n",
       "  <tbody>\n",
       "    <tr>\n",
       "      <th>0</th>\n",
       "      <td>14017</td>\n",
       "      <td>139</td>\n",
       "      <td>14156</td>\n",
       "    </tr>\n",
       "    <tr>\n",
       "      <th>1</th>\n",
       "      <td>1096</td>\n",
       "      <td>748</td>\n",
       "      <td>1844</td>\n",
       "    </tr>\n",
       "    <tr>\n",
       "      <th>All</th>\n",
       "      <td>15113</td>\n",
       "      <td>887</td>\n",
       "      <td>16000</td>\n",
       "    </tr>\n",
       "  </tbody>\n",
       "</table>\n",
       "</div>"
      ],
      "text/plain": [
       "Prédiction        0    1    All\n",
       "Vraie valeur                   \n",
       "0             14017  139  14156\n",
       "1              1096  748   1844\n",
       "All           15113  887  16000"
      ]
     },
     "metadata": {},
     "output_type": "display_data"
    }
   ],
   "source": [
    "print('Gradient Boosting Classifier :')\n",
    "confusion_matrix(gbc)"
   ]
  },
  {
   "cell_type": "code",
   "execution_count": 57,
   "metadata": {},
   "outputs": [
    {
     "name": "stdout",
     "output_type": "stream",
     "text": [
      "Random Forest :\n"
     ]
    },
    {
     "data": {
      "text/html": [
       "<div>\n",
       "<style scoped>\n",
       "    .dataframe tbody tr th:only-of-type {\n",
       "        vertical-align: middle;\n",
       "    }\n",
       "\n",
       "    .dataframe tbody tr th {\n",
       "        vertical-align: top;\n",
       "    }\n",
       "\n",
       "    .dataframe thead th {\n",
       "        text-align: right;\n",
       "    }\n",
       "</style>\n",
       "<table border=\"1\" class=\"dataframe\">\n",
       "  <thead>\n",
       "    <tr style=\"text-align: right;\">\n",
       "      <th>Prédiction</th>\n",
       "      <th>0</th>\n",
       "      <th>1</th>\n",
       "      <th>All</th>\n",
       "    </tr>\n",
       "    <tr>\n",
       "      <th>Vraie valeur</th>\n",
       "      <th></th>\n",
       "      <th></th>\n",
       "      <th></th>\n",
       "    </tr>\n",
       "  </thead>\n",
       "  <tbody>\n",
       "    <tr>\n",
       "      <th>0</th>\n",
       "      <td>13954</td>\n",
       "      <td>202</td>\n",
       "      <td>14156</td>\n",
       "    </tr>\n",
       "    <tr>\n",
       "      <th>1</th>\n",
       "      <td>1039</td>\n",
       "      <td>805</td>\n",
       "      <td>1844</td>\n",
       "    </tr>\n",
       "    <tr>\n",
       "      <th>All</th>\n",
       "      <td>14993</td>\n",
       "      <td>1007</td>\n",
       "      <td>16000</td>\n",
       "    </tr>\n",
       "  </tbody>\n",
       "</table>\n",
       "</div>"
      ],
      "text/plain": [
       "Prédiction        0     1    All\n",
       "Vraie valeur                    \n",
       "0             13954   202  14156\n",
       "1              1039   805   1844\n",
       "All           14993  1007  16000"
      ]
     },
     "metadata": {},
     "output_type": "display_data"
    }
   ],
   "source": [
    "print('Random Forest :')\n",
    "confusion_matrix(rf)"
   ]
  },
  {
   "cell_type": "markdown",
   "metadata": {},
   "source": [
    "On remarque que les deux matrices sont globalement similaires en ordres de grandeur. \n",
    "\n",
    "Suivant la sensibilité de notre problème, il est important de comparer les scores (Precision, Recall et Specificity) afin de savoir quel modèle performe le mieux pour ce que l'on veut. Par exemple, s'il est très important de bien classer les vrais positifs et que l’on est sensible aux faux positifs car l'on tient à embaucher des candidats qualifiés, il faudra voir quel modèle a le meilleure score Precision."
   ]
  },
  {
   "cell_type": "code",
   "execution_count": 58,
   "metadata": {},
   "outputs": [
    {
     "name": "stdout",
     "output_type": "stream",
     "text": [
      "Precision Score du GBC : 84.33\n",
      "Precision Score du RF: 79.94\n",
      "Recall Score du GBC : 40.56\n",
      "Recall Score du RF: 43.66\n",
      "F1 Score du GBC : 54.78\n",
      "F1 Score du RF: 56.47\n"
     ]
    }
   ],
   "source": [
    "def precision_score(model):\n",
    "    from sklearn.metrics import precision_score\n",
    "    predicted = x_val_predict(model)\n",
    "    f1_score = precision_score(y_train, predicted)\n",
    "    return np.round(f1_score*100, 2)\n",
    "\n",
    "def recall_score(model):\n",
    "    from sklearn.metrics import recall_score\n",
    "    predicted = x_val_predict(model)\n",
    "    f1_score = recall_score(y_train, predicted)\n",
    "    return np.round(f1_score*100, 2)\n",
    "\n",
    "def f1_score(model):\n",
    "    from sklearn.metrics import f1_score\n",
    "    predicted = x_val_predict(model)\n",
    "    f1_score = f1_score(y_train, predicted)\n",
    "    return np.round(f1_score*100, 2)\n",
    "\n",
    "print('Precision Score du GBC :', precision_score(gbc))\n",
    "print('Precision Score du RF:', precision_score(rf))\n",
    "\n",
    "print('Recall Score du GBC :', recall_score(gbc))\n",
    "print('Recall Score du RF:', recall_score(rf))\n",
    "\n",
    "print('F1 Score du GBC :', f1_score(gbc))\n",
    "print('F1 Score du RF:', f1_score(rf))"
   ]
  },
  {
   "cell_type": "markdown",
   "metadata": {},
   "source": [
    "On voit que le GBC dépasse le RF sur l'accuracy et le precision score. Le RF est quant à lui meilleur sur le recall et le F1 score.\n",
    "\n",
    "Sachant que nous voulons ici un modèle qui privilégie les bonnes embauches, nous allons choisir celui avec le meilleur score de précision, c'est à dire le GBC."
   ]
  },
  {
   "cell_type": "markdown",
   "metadata": {},
   "source": [
    "### c. Test du modèle"
   ]
  },
  {
   "cell_type": "markdown",
   "metadata": {},
   "source": [
    "Maintenant que nous avons paramétré, entraîné et choisi notre modèle, procédons au test du modèle avec le test set."
   ]
  },
  {
   "cell_type": "code",
   "execution_count": 59,
   "metadata": {},
   "outputs": [],
   "source": [
    "y_pred = gbc.predict(X_test)"
   ]
  },
  {
   "cell_type": "code",
   "execution_count": 60,
   "metadata": {},
   "outputs": [
    {
     "data": {
      "text/html": [
       "<div>\n",
       "<style scoped>\n",
       "    .dataframe tbody tr th:only-of-type {\n",
       "        vertical-align: middle;\n",
       "    }\n",
       "\n",
       "    .dataframe tbody tr th {\n",
       "        vertical-align: top;\n",
       "    }\n",
       "\n",
       "    .dataframe thead th {\n",
       "        text-align: right;\n",
       "    }\n",
       "</style>\n",
       "<table border=\"1\" class=\"dataframe\">\n",
       "  <thead>\n",
       "    <tr style=\"text-align: right;\">\n",
       "      <th>Prédiction</th>\n",
       "      <th>0</th>\n",
       "      <th>1</th>\n",
       "      <th>All</th>\n",
       "    </tr>\n",
       "    <tr>\n",
       "      <th>Vraie valeur</th>\n",
       "      <th></th>\n",
       "      <th></th>\n",
       "      <th></th>\n",
       "    </tr>\n",
       "  </thead>\n",
       "  <tbody>\n",
       "    <tr>\n",
       "      <th>0</th>\n",
       "      <td>3529</td>\n",
       "      <td>23</td>\n",
       "      <td>3552</td>\n",
       "    </tr>\n",
       "    <tr>\n",
       "      <th>1</th>\n",
       "      <td>268</td>\n",
       "      <td>180</td>\n",
       "      <td>448</td>\n",
       "    </tr>\n",
       "    <tr>\n",
       "      <th>All</th>\n",
       "      <td>3797</td>\n",
       "      <td>203</td>\n",
       "      <td>4000</td>\n",
       "    </tr>\n",
       "  </tbody>\n",
       "</table>\n",
       "</div>"
      ],
      "text/plain": [
       "Prédiction       0    1   All\n",
       "Vraie valeur                 \n",
       "0             3529   23  3552\n",
       "1              268  180   448\n",
       "All           3797  203  4000"
      ]
     },
     "execution_count": 60,
     "metadata": {},
     "output_type": "execute_result"
    }
   ],
   "source": [
    "pd.crosstab(y_test, y_pred, rownames = ['Vraie valeur'], colnames = ['Prédiction'], margins = True)"
   ]
  },
  {
   "cell_type": "code",
   "execution_count": 61,
   "metadata": {},
   "outputs": [
    {
     "name": "stdout",
     "output_type": "stream",
     "text": [
      "Accuracy Score du modèle : 92.72\n",
      "Precision Score du modèle : 88.67\n"
     ]
    }
   ],
   "source": [
    "from sklearn.metrics import accuracy_score, precision_score, recall_score\n",
    "print('Accuracy Score du modèle : ' + str(np.round(accuracy_score(y_test, y_pred)*100, 2)))\n",
    "print('Precision Score du modèle : ' + str(np.round(precision_score(y_test, y_pred)*100, 2)))"
   ]
  },
  {
   "cell_type": "markdown",
   "metadata": {},
   "source": [
    "Notre modèle a une accuracy de 92.72, ce qui est un score respectable pour un modèle de classification. Son precision score est de 88.67, ce qui montre que c'est un modèle performant quand il s'agit de classer correctement les vrais positifs."
   ]
  },
  {
   "cell_type": "markdown",
   "metadata": {},
   "source": [
    "### d. Features importantes pour le modèle"
   ]
  },
  {
   "cell_type": "code",
   "execution_count": 62,
   "metadata": {},
   "outputs": [
    {
     "data": {
      "text/plain": [
       "<matplotlib.axes._subplots.AxesSubplot at 0x1cb31a38fc8>"
      ]
     },
     "execution_count": 62,
     "metadata": {},
     "output_type": "execute_result"
    },
    {
     "data": {
      "image/png": "[encoded data removed]",
      "text/plain": [
       "<Figure size 864x720 with 1 Axes>"
      ]
     },
     "metadata": {
      "needs_background": "light"
     },
     "output_type": "display_data"
    }
   ],
   "source": [
    "df_temp = df.drop(columns = ['embauche'], axis = 1)\n",
    "\n",
    "importance = pd.DataFrame({'Feature': df_temp.columns.values, 'Importance': np.round(gbc.feature_importances_*100,3)})\n",
    "importance = importance.sort_values(by = 'Importance', ascending = False).set_index('Feature')\n",
    "\n",
    "fig, axes = plt.subplots(1,1, figsize = (12,10))\n",
    "importance.plot.barh(ax = axes, title = 'GBC', fontsize = 12, color = 'green')"
   ]
  },
  {
   "cell_type": "markdown",
   "metadata": {},
   "source": [
    "On voit ici que les features les plus importantes sont la note qui compte pour plus de 25% dans la prise de décision, le salaire demandé qui compte pour plus de 15%, et la disponibilité qui compte pour plus de 5% si celle-ci est négative."
   ]
  },
  {
   "cell_type": "code",
   "execution_count": null,
   "metadata": {},
   "outputs": [],
   "source": []
  }
 ],
 "metadata": {
  "kernelspec": {
   "display_name": "Python 3",
   "language": "python",
   "name": "python3"
  },
  "language_info": {
   "codemirror_mode": {
    "name": "ipython",
    "version": 3
   },
   "file_extension": ".py",
   "mimetype": "text/x-python",
   "name": "python",
   "nbconvert_exporter": "python",
   "pygments_lexer": "ipython3",
   "version": "3.7.6"
  }
 },
 "nbformat": 4,
 "nbformat_minor": 2
}
